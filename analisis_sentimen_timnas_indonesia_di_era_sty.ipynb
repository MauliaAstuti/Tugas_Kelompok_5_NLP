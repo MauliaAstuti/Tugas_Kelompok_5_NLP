{
  "cells": [
    {
      "cell_type": "markdown",
      "metadata": {
        "id": "view-in-github",
        "colab_type": "text"
      },
      "source": [
        "<a href=\"https://colab.research.google.com/github/MauliaAstuti/Tugas_Kelompok_5_NLP/blob/main/analisis_sentimen_timnas_indonesia_di_era_sty.ipynb\" target=\"_parent\"><img src=\"https://colab.research.google.com/assets/colab-badge.svg\" alt=\"Open In Colab\"/></a>"
      ]
    },
    {
      "cell_type": "code",
      "source": [
        "from google.colab import files\n",
        "uploaded = files.upload()"
      ],
      "metadata": {
        "colab": {
          "base_uri": "https://localhost:8080/",
          "height": 128
        },
        "id": "_CGFwHf48Pmm",
        "outputId": "7c3ea614-c7b6-483a-8aca-4823393b7e37"
      },
      "id": "_CGFwHf48Pmm",
      "execution_count": 6,
      "outputs": [
        {
          "output_type": "display_data",
          "data": {
            "text/plain": [
              "<IPython.core.display.HTML object>"
            ],
            "text/html": [
              "\n",
              "     <input type=\"file\" id=\"files-feb60e44-95f1-48fd-9c2d-556987c9eac1\" name=\"files[]\" multiple disabled\n",
              "        style=\"border:none\" />\n",
              "     <output id=\"result-feb60e44-95f1-48fd-9c2d-556987c9eac1\">\n",
              "      Upload widget is only available when the cell has been executed in the\n",
              "      current browser session. Please rerun this cell to enable.\n",
              "      </output>\n",
              "      <script>// Copyright 2017 Google LLC\n",
              "//\n",
              "// Licensed under the Apache License, Version 2.0 (the \"License\");\n",
              "// you may not use this file except in compliance with the License.\n",
              "// You may obtain a copy of the License at\n",
              "//\n",
              "//      http://www.apache.org/licenses/LICENSE-2.0\n",
              "//\n",
              "// Unless required by applicable law or agreed to in writing, software\n",
              "// distributed under the License is distributed on an \"AS IS\" BASIS,\n",
              "// WITHOUT WARRANTIES OR CONDITIONS OF ANY KIND, either express or implied.\n",
              "// See the License for the specific language governing permissions and\n",
              "// limitations under the License.\n",
              "\n",
              "/**\n",
              " * @fileoverview Helpers for google.colab Python module.\n",
              " */\n",
              "(function(scope) {\n",
              "function span(text, styleAttributes = {}) {\n",
              "  const element = document.createElement('span');\n",
              "  element.textContent = text;\n",
              "  for (const key of Object.keys(styleAttributes)) {\n",
              "    element.style[key] = styleAttributes[key];\n",
              "  }\n",
              "  return element;\n",
              "}\n",
              "\n",
              "// Max number of bytes which will be uploaded at a time.\n",
              "const MAX_PAYLOAD_SIZE = 100 * 1024;\n",
              "\n",
              "function _uploadFiles(inputId, outputId) {\n",
              "  const steps = uploadFilesStep(inputId, outputId);\n",
              "  const outputElement = document.getElementById(outputId);\n",
              "  // Cache steps on the outputElement to make it available for the next call\n",
              "  // to uploadFilesContinue from Python.\n",
              "  outputElement.steps = steps;\n",
              "\n",
              "  return _uploadFilesContinue(outputId);\n",
              "}\n",
              "\n",
              "// This is roughly an async generator (not supported in the browser yet),\n",
              "// where there are multiple asynchronous steps and the Python side is going\n",
              "// to poll for completion of each step.\n",
              "// This uses a Promise to block the python side on completion of each step,\n",
              "// then passes the result of the previous step as the input to the next step.\n",
              "function _uploadFilesContinue(outputId) {\n",
              "  const outputElement = document.getElementById(outputId);\n",
              "  const steps = outputElement.steps;\n",
              "\n",
              "  const next = steps.next(outputElement.lastPromiseValue);\n",
              "  return Promise.resolve(next.value.promise).then((value) => {\n",
              "    // Cache the last promise value to make it available to the next\n",
              "    // step of the generator.\n",
              "    outputElement.lastPromiseValue = value;\n",
              "    return next.value.response;\n",
              "  });\n",
              "}\n",
              "\n",
              "/**\n",
              " * Generator function which is called between each async step of the upload\n",
              " * process.\n",
              " * @param {string} inputId Element ID of the input file picker element.\n",
              " * @param {string} outputId Element ID of the output display.\n",
              " * @return {!Iterable<!Object>} Iterable of next steps.\n",
              " */\n",
              "function* uploadFilesStep(inputId, outputId) {\n",
              "  const inputElement = document.getElementById(inputId);\n",
              "  inputElement.disabled = false;\n",
              "\n",
              "  const outputElement = document.getElementById(outputId);\n",
              "  outputElement.innerHTML = '';\n",
              "\n",
              "  const pickedPromise = new Promise((resolve) => {\n",
              "    inputElement.addEventListener('change', (e) => {\n",
              "      resolve(e.target.files);\n",
              "    });\n",
              "  });\n",
              "\n",
              "  const cancel = document.createElement('button');\n",
              "  inputElement.parentElement.appendChild(cancel);\n",
              "  cancel.textContent = 'Cancel upload';\n",
              "  const cancelPromise = new Promise((resolve) => {\n",
              "    cancel.onclick = () => {\n",
              "      resolve(null);\n",
              "    };\n",
              "  });\n",
              "\n",
              "  // Wait for the user to pick the files.\n",
              "  const files = yield {\n",
              "    promise: Promise.race([pickedPromise, cancelPromise]),\n",
              "    response: {\n",
              "      action: 'starting',\n",
              "    }\n",
              "  };\n",
              "\n",
              "  cancel.remove();\n",
              "\n",
              "  // Disable the input element since further picks are not allowed.\n",
              "  inputElement.disabled = true;\n",
              "\n",
              "  if (!files) {\n",
              "    return {\n",
              "      response: {\n",
              "        action: 'complete',\n",
              "      }\n",
              "    };\n",
              "  }\n",
              "\n",
              "  for (const file of files) {\n",
              "    const li = document.createElement('li');\n",
              "    li.append(span(file.name, {fontWeight: 'bold'}));\n",
              "    li.append(span(\n",
              "        `(${file.type || 'n/a'}) - ${file.size} bytes, ` +\n",
              "        `last modified: ${\n",
              "            file.lastModifiedDate ? file.lastModifiedDate.toLocaleDateString() :\n",
              "                                    'n/a'} - `));\n",
              "    const percent = span('0% done');\n",
              "    li.appendChild(percent);\n",
              "\n",
              "    outputElement.appendChild(li);\n",
              "\n",
              "    const fileDataPromise = new Promise((resolve) => {\n",
              "      const reader = new FileReader();\n",
              "      reader.onload = (e) => {\n",
              "        resolve(e.target.result);\n",
              "      };\n",
              "      reader.readAsArrayBuffer(file);\n",
              "    });\n",
              "    // Wait for the data to be ready.\n",
              "    let fileData = yield {\n",
              "      promise: fileDataPromise,\n",
              "      response: {\n",
              "        action: 'continue',\n",
              "      }\n",
              "    };\n",
              "\n",
              "    // Use a chunked sending to avoid message size limits. See b/62115660.\n",
              "    let position = 0;\n",
              "    do {\n",
              "      const length = Math.min(fileData.byteLength - position, MAX_PAYLOAD_SIZE);\n",
              "      const chunk = new Uint8Array(fileData, position, length);\n",
              "      position += length;\n",
              "\n",
              "      const base64 = btoa(String.fromCharCode.apply(null, chunk));\n",
              "      yield {\n",
              "        response: {\n",
              "          action: 'append',\n",
              "          file: file.name,\n",
              "          data: base64,\n",
              "        },\n",
              "      };\n",
              "\n",
              "      let percentDone = fileData.byteLength === 0 ?\n",
              "          100 :\n",
              "          Math.round((position / fileData.byteLength) * 100);\n",
              "      percent.textContent = `${percentDone}% done`;\n",
              "\n",
              "    } while (position < fileData.byteLength);\n",
              "  }\n",
              "\n",
              "  // All done.\n",
              "  yield {\n",
              "    response: {\n",
              "      action: 'complete',\n",
              "    }\n",
              "  };\n",
              "}\n",
              "\n",
              "scope.google = scope.google || {};\n",
              "scope.google.colab = scope.google.colab || {};\n",
              "scope.google.colab._files = {\n",
              "  _uploadFiles,\n",
              "  _uploadFilesContinue,\n",
              "};\n",
              "})(self);\n",
              "</script> "
            ]
          },
          "metadata": {}
        },
        {
          "output_type": "stream",
          "name": "stdout",
          "text": [
            "Saving Analisis_sentimen_timnas_sepakbola_indonesia_di_era_STY.csv to Analisis_sentimen_timnas_sepakbola_indonesia_di_era_STY.csv\n"
          ]
        }
      ]
    },
    {
      "cell_type": "code",
      "source": [
        "import pandas as pd\n",
        "\n",
        "# Membaca file CSV yang sudah diupload\n",
        "df = pd.read_csv('Analisis_sentimen_timnas_sepakbola_indonesia_di_era_STY.csv')\n",
        "\n",
        "# Menampilkan 5 baris pertama\n",
        "df.head()"
      ],
      "metadata": {
        "colab": {
          "base_uri": "https://localhost:8080/",
          "height": 327
        },
        "id": "E5UnbHh68jNm",
        "outputId": "431dda6d-2a1c-4371-aadc-41e3a2b52475"
      },
      "id": "E5UnbHh68jNm",
      "execution_count": 7,
      "outputs": [
        {
          "output_type": "execute_result",
          "data": {
            "text/plain": [
              "                                            komentar    label\n",
              "0  <username> Simulasi indonesia kembali dijajah ...  negatif\n",
              "1  <username> <username> <username> keturunan lai...  negatif\n",
              "2  <username> <username> uda botak keturunan penj...  negatif\n",
              "3  <username> <username> <username> Belum tentu, ...  negatif\n",
              "4  <username> <username> <username> Lu nya aja yg...  negatif"
            ],
            "text/html": [
              "\n",
              "  <div id=\"df-c4604cb9-9b9a-4aab-a5e9-c53c304c570f\" class=\"colab-df-container\">\n",
              "    <div>\n",
              "<style scoped>\n",
              "    .dataframe tbody tr th:only-of-type {\n",
              "        vertical-align: middle;\n",
              "    }\n",
              "\n",
              "    .dataframe tbody tr th {\n",
              "        vertical-align: top;\n",
              "    }\n",
              "\n",
              "    .dataframe thead th {\n",
              "        text-align: right;\n",
              "    }\n",
              "</style>\n",
              "<table border=\"1\" class=\"dataframe\">\n",
              "  <thead>\n",
              "    <tr style=\"text-align: right;\">\n",
              "      <th></th>\n",
              "      <th>komentar</th>\n",
              "      <th>label</th>\n",
              "    </tr>\n",
              "  </thead>\n",
              "  <tbody>\n",
              "    <tr>\n",
              "      <th>0</th>\n",
              "      <td>&lt;username&gt; Simulasi indonesia kembali dijajah ...</td>\n",
              "      <td>negatif</td>\n",
              "    </tr>\n",
              "    <tr>\n",
              "      <th>1</th>\n",
              "      <td>&lt;username&gt; &lt;username&gt; &lt;username&gt; keturunan lai...</td>\n",
              "      <td>negatif</td>\n",
              "    </tr>\n",
              "    <tr>\n",
              "      <th>2</th>\n",
              "      <td>&lt;username&gt; &lt;username&gt; uda botak keturunan penj...</td>\n",
              "      <td>negatif</td>\n",
              "    </tr>\n",
              "    <tr>\n",
              "      <th>3</th>\n",
              "      <td>&lt;username&gt; &lt;username&gt; &lt;username&gt; Belum tentu, ...</td>\n",
              "      <td>negatif</td>\n",
              "    </tr>\n",
              "    <tr>\n",
              "      <th>4</th>\n",
              "      <td>&lt;username&gt; &lt;username&gt; &lt;username&gt; Lu nya aja yg...</td>\n",
              "      <td>negatif</td>\n",
              "    </tr>\n",
              "  </tbody>\n",
              "</table>\n",
              "</div>\n",
              "    <div class=\"colab-df-buttons\">\n",
              "\n",
              "  <div class=\"colab-df-container\">\n",
              "    <button class=\"colab-df-convert\" onclick=\"convertToInteractive('df-c4604cb9-9b9a-4aab-a5e9-c53c304c570f')\"\n",
              "            title=\"Convert this dataframe to an interactive table.\"\n",
              "            style=\"display:none;\">\n",
              "\n",
              "  <svg xmlns=\"http://www.w3.org/2000/svg\" height=\"24px\" viewBox=\"0 -960 960 960\">\n",
              "    <path d=\"M120-120v-720h720v720H120Zm60-500h600v-160H180v160Zm220 220h160v-160H400v160Zm0 220h160v-160H400v160ZM180-400h160v-160H180v160Zm440 0h160v-160H620v160ZM180-180h160v-160H180v160Zm440 0h160v-160H620v160Z\"/>\n",
              "  </svg>\n",
              "    </button>\n",
              "\n",
              "  <style>\n",
              "    .colab-df-container {\n",
              "      display:flex;\n",
              "      gap: 12px;\n",
              "    }\n",
              "\n",
              "    .colab-df-convert {\n",
              "      background-color: #E8F0FE;\n",
              "      border: none;\n",
              "      border-radius: 50%;\n",
              "      cursor: pointer;\n",
              "      display: none;\n",
              "      fill: #1967D2;\n",
              "      height: 32px;\n",
              "      padding: 0 0 0 0;\n",
              "      width: 32px;\n",
              "    }\n",
              "\n",
              "    .colab-df-convert:hover {\n",
              "      background-color: #E2EBFA;\n",
              "      box-shadow: 0px 1px 2px rgba(60, 64, 67, 0.3), 0px 1px 3px 1px rgba(60, 64, 67, 0.15);\n",
              "      fill: #174EA6;\n",
              "    }\n",
              "\n",
              "    .colab-df-buttons div {\n",
              "      margin-bottom: 4px;\n",
              "    }\n",
              "\n",
              "    [theme=dark] .colab-df-convert {\n",
              "      background-color: #3B4455;\n",
              "      fill: #D2E3FC;\n",
              "    }\n",
              "\n",
              "    [theme=dark] .colab-df-convert:hover {\n",
              "      background-color: #434B5C;\n",
              "      box-shadow: 0px 1px 3px 1px rgba(0, 0, 0, 0.15);\n",
              "      filter: drop-shadow(0px 1px 2px rgba(0, 0, 0, 0.3));\n",
              "      fill: #FFFFFF;\n",
              "    }\n",
              "  </style>\n",
              "\n",
              "    <script>\n",
              "      const buttonEl =\n",
              "        document.querySelector('#df-c4604cb9-9b9a-4aab-a5e9-c53c304c570f button.colab-df-convert');\n",
              "      buttonEl.style.display =\n",
              "        google.colab.kernel.accessAllowed ? 'block' : 'none';\n",
              "\n",
              "      async function convertToInteractive(key) {\n",
              "        const element = document.querySelector('#df-c4604cb9-9b9a-4aab-a5e9-c53c304c570f');\n",
              "        const dataTable =\n",
              "          await google.colab.kernel.invokeFunction('convertToInteractive',\n",
              "                                                    [key], {});\n",
              "        if (!dataTable) return;\n",
              "\n",
              "        const docLinkHtml = 'Like what you see? Visit the ' +\n",
              "          '<a target=\"_blank\" href=https://colab.research.google.com/notebooks/data_table.ipynb>data table notebook</a>'\n",
              "          + ' to learn more about interactive tables.';\n",
              "        element.innerHTML = '';\n",
              "        dataTable['output_type'] = 'display_data';\n",
              "        await google.colab.output.renderOutput(dataTable, element);\n",
              "        const docLink = document.createElement('div');\n",
              "        docLink.innerHTML = docLinkHtml;\n",
              "        element.appendChild(docLink);\n",
              "      }\n",
              "    </script>\n",
              "  </div>\n",
              "\n",
              "\n",
              "    <div id=\"df-8127ae84-4bce-4e05-bdd6-8b155a39b533\">\n",
              "      <button class=\"colab-df-quickchart\" onclick=\"quickchart('df-8127ae84-4bce-4e05-bdd6-8b155a39b533')\"\n",
              "                title=\"Suggest charts\"\n",
              "                style=\"display:none;\">\n",
              "\n",
              "<svg xmlns=\"http://www.w3.org/2000/svg\" height=\"24px\"viewBox=\"0 0 24 24\"\n",
              "     width=\"24px\">\n",
              "    <g>\n",
              "        <path d=\"M19 3H5c-1.1 0-2 .9-2 2v14c0 1.1.9 2 2 2h14c1.1 0 2-.9 2-2V5c0-1.1-.9-2-2-2zM9 17H7v-7h2v7zm4 0h-2V7h2v10zm4 0h-2v-4h2v4z\"/>\n",
              "    </g>\n",
              "</svg>\n",
              "      </button>\n",
              "\n",
              "<style>\n",
              "  .colab-df-quickchart {\n",
              "      --bg-color: #E8F0FE;\n",
              "      --fill-color: #1967D2;\n",
              "      --hover-bg-color: #E2EBFA;\n",
              "      --hover-fill-color: #174EA6;\n",
              "      --disabled-fill-color: #AAA;\n",
              "      --disabled-bg-color: #DDD;\n",
              "  }\n",
              "\n",
              "  [theme=dark] .colab-df-quickchart {\n",
              "      --bg-color: #3B4455;\n",
              "      --fill-color: #D2E3FC;\n",
              "      --hover-bg-color: #434B5C;\n",
              "      --hover-fill-color: #FFFFFF;\n",
              "      --disabled-bg-color: #3B4455;\n",
              "      --disabled-fill-color: #666;\n",
              "  }\n",
              "\n",
              "  .colab-df-quickchart {\n",
              "    background-color: var(--bg-color);\n",
              "    border: none;\n",
              "    border-radius: 50%;\n",
              "    cursor: pointer;\n",
              "    display: none;\n",
              "    fill: var(--fill-color);\n",
              "    height: 32px;\n",
              "    padding: 0;\n",
              "    width: 32px;\n",
              "  }\n",
              "\n",
              "  .colab-df-quickchart:hover {\n",
              "    background-color: var(--hover-bg-color);\n",
              "    box-shadow: 0 1px 2px rgba(60, 64, 67, 0.3), 0 1px 3px 1px rgba(60, 64, 67, 0.15);\n",
              "    fill: var(--button-hover-fill-color);\n",
              "  }\n",
              "\n",
              "  .colab-df-quickchart-complete:disabled,\n",
              "  .colab-df-quickchart-complete:disabled:hover {\n",
              "    background-color: var(--disabled-bg-color);\n",
              "    fill: var(--disabled-fill-color);\n",
              "    box-shadow: none;\n",
              "  }\n",
              "\n",
              "  .colab-df-spinner {\n",
              "    border: 2px solid var(--fill-color);\n",
              "    border-color: transparent;\n",
              "    border-bottom-color: var(--fill-color);\n",
              "    animation:\n",
              "      spin 1s steps(1) infinite;\n",
              "  }\n",
              "\n",
              "  @keyframes spin {\n",
              "    0% {\n",
              "      border-color: transparent;\n",
              "      border-bottom-color: var(--fill-color);\n",
              "      border-left-color: var(--fill-color);\n",
              "    }\n",
              "    20% {\n",
              "      border-color: transparent;\n",
              "      border-left-color: var(--fill-color);\n",
              "      border-top-color: var(--fill-color);\n",
              "    }\n",
              "    30% {\n",
              "      border-color: transparent;\n",
              "      border-left-color: var(--fill-color);\n",
              "      border-top-color: var(--fill-color);\n",
              "      border-right-color: var(--fill-color);\n",
              "    }\n",
              "    40% {\n",
              "      border-color: transparent;\n",
              "      border-right-color: var(--fill-color);\n",
              "      border-top-color: var(--fill-color);\n",
              "    }\n",
              "    60% {\n",
              "      border-color: transparent;\n",
              "      border-right-color: var(--fill-color);\n",
              "    }\n",
              "    80% {\n",
              "      border-color: transparent;\n",
              "      border-right-color: var(--fill-color);\n",
              "      border-bottom-color: var(--fill-color);\n",
              "    }\n",
              "    90% {\n",
              "      border-color: transparent;\n",
              "      border-bottom-color: var(--fill-color);\n",
              "    }\n",
              "  }\n",
              "</style>\n",
              "\n",
              "      <script>\n",
              "        async function quickchart(key) {\n",
              "          const quickchartButtonEl =\n",
              "            document.querySelector('#' + key + ' button');\n",
              "          quickchartButtonEl.disabled = true;  // To prevent multiple clicks.\n",
              "          quickchartButtonEl.classList.add('colab-df-spinner');\n",
              "          try {\n",
              "            const charts = await google.colab.kernel.invokeFunction(\n",
              "                'suggestCharts', [key], {});\n",
              "          } catch (error) {\n",
              "            console.error('Error during call to suggestCharts:', error);\n",
              "          }\n",
              "          quickchartButtonEl.classList.remove('colab-df-spinner');\n",
              "          quickchartButtonEl.classList.add('colab-df-quickchart-complete');\n",
              "        }\n",
              "        (() => {\n",
              "          let quickchartButtonEl =\n",
              "            document.querySelector('#df-8127ae84-4bce-4e05-bdd6-8b155a39b533 button');\n",
              "          quickchartButtonEl.style.display =\n",
              "            google.colab.kernel.accessAllowed ? 'block' : 'none';\n",
              "        })();\n",
              "      </script>\n",
              "    </div>\n",
              "\n",
              "    </div>\n",
              "  </div>\n"
            ],
            "application/vnd.google.colaboratory.intrinsic+json": {
              "type": "dataframe",
              "variable_name": "df",
              "summary": "{\n  \"name\": \"df\",\n  \"rows\": 398,\n  \"fields\": [\n    {\n      \"column\": \"komentar\",\n      \"properties\": {\n        \"dtype\": \"string\",\n        \"num_unique_values\": 393,\n        \"samples\": [\n          \"<username> <username> Gak malah sty masih gambling, jelas-jelas saat Lilipaly maen lawan Turkmenistan bagus trus sty juga butuh pemain yg senior tapi malah cuma ada dua aja yg senior yaitu Jordi sama klok ini mnurut gua Sty kayak kurang pede malah gambling trus ke Adam alis yg udh di calling dua kali\",\n          \"Pelatih timnas, Shin Tae-yong masih yakin kalau tim nya mengalami perkembangan yang positif, walau menelan hasil mengecewakan dalam uji coba. STY masih memiliki dua kesempatan ujicoba untuk menunjukkan performa tim asuhannya sebelum Piala Asia.  Setuju dengan pendapat STY lob? https://t.co/T9BAyEbnFh\",\n          \"<username> <username> Suka hilang momen adam alis sama strategi sty, keep bola juga terlalu lama shg transisi nya jadi jelek, kualitasnya masih biasa aja sih dibanding gelandang yg sisa\"\n        ],\n        \"semantic_type\": \"\",\n        \"description\": \"\"\n      }\n    },\n    {\n      \"column\": \"label\",\n      \"properties\": {\n        \"dtype\": \"category\",\n        \"num_unique_values\": 2,\n        \"samples\": [\n          \"positif\",\n          \"negatif\"\n        ],\n        \"semantic_type\": \"\",\n        \"description\": \"\"\n      }\n    }\n  ]\n}"
            }
          },
          "metadata": {},
          "execution_count": 7
        }
      ]
    },
    {
      "cell_type": "markdown",
      "id": "278ba899",
      "metadata": {
        "papermill": {
          "duration": 0.012177,
          "end_time": "2024-01-12T15:23:18.344140",
          "exception": false,
          "start_time": "2024-01-12T15:23:18.331963",
          "status": "completed"
        },
        "tags": [],
        "id": "278ba899"
      },
      "source": [
        "# Import modul"
      ]
    },
    {
      "cell_type": "code",
      "execution_count": 8,
      "id": "1a359d08",
      "metadata": {
        "execution": {
          "iopub.execute_input": "2024-01-12T15:23:18.369602Z",
          "iopub.status.busy": "2024-01-12T15:23:18.369214Z",
          "iopub.status.idle": "2024-01-12T15:23:35.271614Z",
          "shell.execute_reply": "2024-01-12T15:23:35.270393Z"
        },
        "papermill": {
          "duration": 16.919031,
          "end_time": "2024-01-12T15:23:35.274877",
          "exception": false,
          "start_time": "2024-01-12T15:23:18.355846",
          "status": "completed"
        },
        "tags": [],
        "colab": {
          "base_uri": "https://localhost:8080/"
        },
        "id": "1a359d08",
        "outputId": "de85ebba-2458-46ce-8043-04c7926a4e54"
      },
      "outputs": [
        {
          "output_type": "stream",
          "name": "stderr",
          "text": [
            "[nltk_data] Downloading package punkt to /root/nltk_data...\n",
            "[nltk_data]   Package punkt is already up-to-date!\n"
          ]
        }
      ],
      "source": [
        "import pandas as pd\n",
        "import numpy as np\n",
        "import re\n",
        "import nltk\n",
        "nltk.download('punkt')\n",
        "from nltk.tokenize import word_tokenize\n",
        "from sklearn.model_selection import train_test_split\n",
        "from sklearn.preprocessing import LabelEncoder\n",
        "from sklearn.feature_extraction.text import TfidfVectorizer\n",
        "from sklearn.linear_model import LogisticRegression\n",
        "from sklearn.metrics import accuracy_score, classification_report, confusion_matrix\n",
        "import matplotlib.pyplot as plt\n",
        "import seaborn as sns"
      ]
    },
    {
      "cell_type": "code",
      "source": [
        "pip install pandas nltk matplotlib scikit-learn keras numpy tensor"
      ],
      "metadata": {
        "colab": {
          "base_uri": "https://localhost:8080/"
        },
        "id": "vVgDs4sbx23y",
        "outputId": "f8727011-a6cd-4577-d5ed-56b957767503"
      },
      "id": "vVgDs4sbx23y",
      "execution_count": 1,
      "outputs": [
        {
          "output_type": "stream",
          "name": "stdout",
          "text": [
            "Requirement already satisfied: pandas in /usr/local/lib/python3.12/dist-packages (2.2.2)\n",
            "Requirement already satisfied: nltk in /usr/local/lib/python3.12/dist-packages (3.9.1)\n",
            "Requirement already satisfied: matplotlib in /usr/local/lib/python3.12/dist-packages (3.10.0)\n",
            "Requirement already satisfied: scikit-learn in /usr/local/lib/python3.12/dist-packages (1.6.1)\n",
            "Requirement already satisfied: keras in /usr/local/lib/python3.12/dist-packages (3.10.0)\n",
            "Requirement already satisfied: numpy in /usr/local/lib/python3.12/dist-packages (2.0.2)\n",
            "Collecting tensor\n",
            "  Downloading tensor-0.3.6.tar.gz (50 kB)\n",
            "\u001b[?25l     \u001b[90m━━━━━━━━━━━━━━━━━━━━━━━━━━━━━━━━━━━━━━━━\u001b[0m \u001b[32m0.0/50.3 kB\u001b[0m \u001b[31m?\u001b[0m eta \u001b[36m-:--:--\u001b[0m\r\u001b[2K     \u001b[90m━━━━━━━━━━━━━━━━━━━━━━━━━━━━━━━━━━━━━━━━\u001b[0m \u001b[32m50.3/50.3 kB\u001b[0m \u001b[31m4.6 MB/s\u001b[0m eta \u001b[36m0:00:00\u001b[0m\n",
            "\u001b[?25h  Preparing metadata (setup.py) ... \u001b[?25l\u001b[?25hdone\n",
            "Requirement already satisfied: python-dateutil>=2.8.2 in /usr/local/lib/python3.12/dist-packages (from pandas) (2.9.0.post0)\n",
            "Requirement already satisfied: pytz>=2020.1 in /usr/local/lib/python3.12/dist-packages (from pandas) (2025.2)\n",
            "Requirement already satisfied: tzdata>=2022.7 in /usr/local/lib/python3.12/dist-packages (from pandas) (2025.2)\n",
            "Requirement already satisfied: click in /usr/local/lib/python3.12/dist-packages (from nltk) (8.3.0)\n",
            "Requirement already satisfied: joblib in /usr/local/lib/python3.12/dist-packages (from nltk) (1.5.2)\n",
            "Requirement already satisfied: regex>=2021.8.3 in /usr/local/lib/python3.12/dist-packages (from nltk) (2024.11.6)\n",
            "Requirement already satisfied: tqdm in /usr/local/lib/python3.12/dist-packages (from nltk) (4.67.1)\n",
            "Requirement already satisfied: contourpy>=1.0.1 in /usr/local/lib/python3.12/dist-packages (from matplotlib) (1.3.3)\n",
            "Requirement already satisfied: cycler>=0.10 in /usr/local/lib/python3.12/dist-packages (from matplotlib) (0.12.1)\n",
            "Requirement already satisfied: fonttools>=4.22.0 in /usr/local/lib/python3.12/dist-packages (from matplotlib) (4.60.1)\n",
            "Requirement already satisfied: kiwisolver>=1.3.1 in /usr/local/lib/python3.12/dist-packages (from matplotlib) (1.4.9)\n",
            "Requirement already satisfied: packaging>=20.0 in /usr/local/lib/python3.12/dist-packages (from matplotlib) (25.0)\n",
            "Requirement already satisfied: pillow>=8 in /usr/local/lib/python3.12/dist-packages (from matplotlib) (11.3.0)\n",
            "Requirement already satisfied: pyparsing>=2.3.1 in /usr/local/lib/python3.12/dist-packages (from matplotlib) (3.2.5)\n",
            "Requirement already satisfied: scipy>=1.6.0 in /usr/local/lib/python3.12/dist-packages (from scikit-learn) (1.16.3)\n",
            "Requirement already satisfied: threadpoolctl>=3.1.0 in /usr/local/lib/python3.12/dist-packages (from scikit-learn) (3.6.0)\n",
            "Requirement already satisfied: absl-py in /usr/local/lib/python3.12/dist-packages (from keras) (1.4.0)\n",
            "Requirement already satisfied: rich in /usr/local/lib/python3.12/dist-packages (from keras) (13.9.4)\n",
            "Requirement already satisfied: namex in /usr/local/lib/python3.12/dist-packages (from keras) (0.1.0)\n",
            "Requirement already satisfied: h5py in /usr/local/lib/python3.12/dist-packages (from keras) (3.15.1)\n",
            "Requirement already satisfied: optree in /usr/local/lib/python3.12/dist-packages (from keras) (0.17.0)\n",
            "Requirement already satisfied: ml-dtypes in /usr/local/lib/python3.12/dist-packages (from keras) (0.5.3)\n",
            "Collecting Twisted (from tensor)\n",
            "  Downloading twisted-25.5.0-py3-none-any.whl.metadata (22 kB)\n",
            "Requirement already satisfied: PyYaml in /usr/local/lib/python3.12/dist-packages (from tensor) (6.0.3)\n",
            "Requirement already satisfied: protobuf in /usr/local/lib/python3.12/dist-packages (from tensor) (5.29.5)\n",
            "Collecting construct (from tensor)\n",
            "  Downloading construct-2.10.70-py3-none-any.whl.metadata (4.2 kB)\n",
            "Collecting pysnmp (from tensor)\n",
            "  Downloading pysnmp-7.1.22-py3-none-any.whl.metadata (5.5 kB)\n",
            "Requirement already satisfied: six>=1.5 in /usr/local/lib/python3.12/dist-packages (from python-dateutil>=2.8.2->pandas) (1.17.0)\n",
            "Requirement already satisfied: typing-extensions>=4.6.0 in /usr/local/lib/python3.12/dist-packages (from optree->keras) (4.15.0)\n",
            "Requirement already satisfied: pyasn1!=0.5.0,>=0.4.8 in /usr/local/lib/python3.12/dist-packages (from pysnmp->tensor) (0.6.1)\n",
            "Requirement already satisfied: markdown-it-py>=2.2.0 in /usr/local/lib/python3.12/dist-packages (from rich->keras) (4.0.0)\n",
            "Requirement already satisfied: pygments<3.0.0,>=2.13.0 in /usr/local/lib/python3.12/dist-packages (from rich->keras) (2.19.2)\n",
            "Requirement already satisfied: attrs>=22.2.0 in /usr/local/lib/python3.12/dist-packages (from Twisted->tensor) (25.4.0)\n",
            "Collecting automat>=24.8.0 (from Twisted->tensor)\n",
            "  Downloading automat-25.4.16-py3-none-any.whl.metadata (8.4 kB)\n",
            "Collecting constantly>=15.1 (from Twisted->tensor)\n",
            "  Downloading constantly-23.10.4-py3-none-any.whl.metadata (1.8 kB)\n",
            "Collecting hyperlink>=17.1.1 (from Twisted->tensor)\n",
            "  Downloading hyperlink-21.0.0-py2.py3-none-any.whl.metadata (1.5 kB)\n",
            "Collecting incremental>=24.7.0 (from Twisted->tensor)\n",
            "  Downloading incremental-24.7.2-py3-none-any.whl.metadata (8.1 kB)\n",
            "Collecting zope-interface>=5 (from Twisted->tensor)\n",
            "  Downloading zope_interface-8.0.1-cp312-cp312-manylinux1_x86_64.manylinux2014_x86_64.manylinux_2_17_x86_64.manylinux_2_5_x86_64.whl.metadata (44 kB)\n",
            "\u001b[2K     \u001b[90m━━━━━━━━━━━━━━━━━━━━━━━━━━━━━━━━━━━━━━━━\u001b[0m \u001b[32m44.9/44.9 kB\u001b[0m \u001b[31m3.9 MB/s\u001b[0m eta \u001b[36m0:00:00\u001b[0m\n",
            "\u001b[?25hRequirement already satisfied: idna>=2.5 in /usr/local/lib/python3.12/dist-packages (from hyperlink>=17.1.1->Twisted->tensor) (3.11)\n",
            "Requirement already satisfied: setuptools>=61.0 in /usr/local/lib/python3.12/dist-packages (from incremental>=24.7.0->Twisted->tensor) (75.2.0)\n",
            "Requirement already satisfied: mdurl~=0.1 in /usr/local/lib/python3.12/dist-packages (from markdown-it-py>=2.2.0->rich->keras) (0.1.2)\n",
            "Downloading construct-2.10.70-py3-none-any.whl (63 kB)\n",
            "\u001b[2K   \u001b[90m━━━━━━━━━━━━━━━━━━━━━━━━━━━━━━━━━━━━━━━━\u001b[0m \u001b[32m63.0/63.0 kB\u001b[0m \u001b[31m6.7 MB/s\u001b[0m eta \u001b[36m0:00:00\u001b[0m\n",
            "\u001b[?25hDownloading pysnmp-7.1.22-py3-none-any.whl (343 kB)\n",
            "\u001b[2K   \u001b[90m━━━━━━━━━━━━━━━━━━━━━━━━━━━━━━━━━━━━━━━━\u001b[0m \u001b[32m343.4/343.4 kB\u001b[0m \u001b[31m21.8 MB/s\u001b[0m eta \u001b[36m0:00:00\u001b[0m\n",
            "\u001b[?25hDownloading twisted-25.5.0-py3-none-any.whl (3.2 MB)\n",
            "\u001b[2K   \u001b[90m━━━━━━━━━━━━━━━━━━━━━━━━━━━━━━━━━━━━━━━━\u001b[0m \u001b[32m3.2/3.2 MB\u001b[0m \u001b[31m68.8 MB/s\u001b[0m eta \u001b[36m0:00:00\u001b[0m\n",
            "\u001b[?25hDownloading automat-25.4.16-py3-none-any.whl (42 kB)\n",
            "\u001b[2K   \u001b[90m━━━━━━━━━━━━━━━━━━━━━━━━━━━━━━━━━━━━━━━━\u001b[0m \u001b[32m42.8/42.8 kB\u001b[0m \u001b[31m4.4 MB/s\u001b[0m eta \u001b[36m0:00:00\u001b[0m\n",
            "\u001b[?25hDownloading constantly-23.10.4-py3-none-any.whl (13 kB)\n",
            "Downloading hyperlink-21.0.0-py2.py3-none-any.whl (74 kB)\n",
            "\u001b[2K   \u001b[90m━━━━━━━━━━━━━━━━━━━━━━━━━━━━━━━━━━━━━━━━\u001b[0m \u001b[32m74.6/74.6 kB\u001b[0m \u001b[31m3.7 MB/s\u001b[0m eta \u001b[36m0:00:00\u001b[0m\n",
            "\u001b[?25hDownloading incremental-24.7.2-py3-none-any.whl (20 kB)\n",
            "Downloading zope_interface-8.0.1-cp312-cp312-manylinux1_x86_64.manylinux2014_x86_64.manylinux_2_17_x86_64.manylinux_2_5_x86_64.whl (264 kB)\n",
            "\u001b[2K   \u001b[90m━━━━━━━━━━━━━━━━━━━━━━━━━━━━━━━━━━━━━━━━\u001b[0m \u001b[32m264.7/264.7 kB\u001b[0m \u001b[31m17.7 MB/s\u001b[0m eta \u001b[36m0:00:00\u001b[0m\n",
            "\u001b[?25hBuilding wheels for collected packages: tensor\n",
            "  Building wheel for tensor (setup.py) ... \u001b[?25l\u001b[?25hdone\n",
            "  Created wheel for tensor: filename=tensor-0.3.6-py3-none-any.whl size=71551 sha256=24af1037ed4b66fa1e22665dbaedf1650d96c240fd11c35ee7fccc44bcf35b09\n",
            "  Stored in directory: /root/.cache/pip/wheels/e4/bf/a5/4555f996fe09316f1bd2112d902c4d219d7dda5f8632cd2bc3\n",
            "Successfully built tensor\n",
            "Installing collected packages: zope-interface, pysnmp, incremental, hyperlink, construct, constantly, automat, Twisted, tensor\n",
            "Successfully installed Twisted-25.5.0 automat-25.4.16 constantly-23.10.4 construct-2.10.70 hyperlink-21.0.0 incremental-24.7.2 pysnmp-7.1.22 tensor-0.3.6 zope-interface-8.0.1\n"
          ]
        }
      ]
    },
    {
      "cell_type": "markdown",
      "id": "b16e6600",
      "metadata": {
        "papermill": {
          "duration": 0.011483,
          "end_time": "2024-01-12T15:23:35.298559",
          "exception": false,
          "start_time": "2024-01-12T15:23:35.287076",
          "status": "completed"
        },
        "tags": [],
        "id": "b16e6600"
      },
      "source": [
        "# Pra-proses data"
      ]
    },
    {
      "cell_type": "markdown",
      "id": "81c27ef9",
      "metadata": {
        "papermill": {
          "duration": 0.011234,
          "end_time": "2024-01-12T15:23:35.321555",
          "exception": false,
          "start_time": "2024-01-12T15:23:35.310321",
          "status": "completed"
        },
        "tags": [],
        "id": "81c27ef9"
      },
      "source": [
        "**Membaca data**"
      ]
    },
    {
      "cell_type": "code",
      "execution_count": 9,
      "id": "b7f7e312",
      "metadata": {
        "execution": {
          "iopub.execute_input": "2024-01-12T15:23:35.346476Z",
          "iopub.status.busy": "2024-01-12T15:23:35.345741Z",
          "iopub.status.idle": "2024-01-12T15:23:35.383972Z",
          "shell.execute_reply": "2024-01-12T15:23:35.383041Z"
        },
        "papermill": {
          "duration": 0.053689,
          "end_time": "2024-01-12T15:23:35.386441",
          "exception": false,
          "start_time": "2024-01-12T15:23:35.332752",
          "status": "completed"
        },
        "tags": [],
        "colab": {
          "base_uri": "https://localhost:8080/",
          "height": 327
        },
        "id": "b7f7e312",
        "outputId": "9b53c4cf-8dec-4c13-da97-ad8dc7a672bc"
      },
      "outputs": [
        {
          "output_type": "execute_result",
          "data": {
            "text/plain": [
              "                                            komentar    label\n",
              "0  <username> Simulasi indonesia kembali dijajah ...  negatif\n",
              "1  <username> <username> <username> keturunan lai...  negatif\n",
              "2  <username> <username> uda botak keturunan penj...  negatif\n",
              "3  <username> <username> <username> Belum tentu, ...  negatif\n",
              "4  <username> <username> <username> Lu nya aja yg...  negatif"
            ],
            "text/html": [
              "\n",
              "  <div id=\"df-3a9721d8-4a9d-466b-bb66-6b6195e8d3cc\" class=\"colab-df-container\">\n",
              "    <div>\n",
              "<style scoped>\n",
              "    .dataframe tbody tr th:only-of-type {\n",
              "        vertical-align: middle;\n",
              "    }\n",
              "\n",
              "    .dataframe tbody tr th {\n",
              "        vertical-align: top;\n",
              "    }\n",
              "\n",
              "    .dataframe thead th {\n",
              "        text-align: right;\n",
              "    }\n",
              "</style>\n",
              "<table border=\"1\" class=\"dataframe\">\n",
              "  <thead>\n",
              "    <tr style=\"text-align: right;\">\n",
              "      <th></th>\n",
              "      <th>komentar</th>\n",
              "      <th>label</th>\n",
              "    </tr>\n",
              "  </thead>\n",
              "  <tbody>\n",
              "    <tr>\n",
              "      <th>0</th>\n",
              "      <td>&lt;username&gt; Simulasi indonesia kembali dijajah ...</td>\n",
              "      <td>negatif</td>\n",
              "    </tr>\n",
              "    <tr>\n",
              "      <th>1</th>\n",
              "      <td>&lt;username&gt; &lt;username&gt; &lt;username&gt; keturunan lai...</td>\n",
              "      <td>negatif</td>\n",
              "    </tr>\n",
              "    <tr>\n",
              "      <th>2</th>\n",
              "      <td>&lt;username&gt; &lt;username&gt; uda botak keturunan penj...</td>\n",
              "      <td>negatif</td>\n",
              "    </tr>\n",
              "    <tr>\n",
              "      <th>3</th>\n",
              "      <td>&lt;username&gt; &lt;username&gt; &lt;username&gt; Belum tentu, ...</td>\n",
              "      <td>negatif</td>\n",
              "    </tr>\n",
              "    <tr>\n",
              "      <th>4</th>\n",
              "      <td>&lt;username&gt; &lt;username&gt; &lt;username&gt; Lu nya aja yg...</td>\n",
              "      <td>negatif</td>\n",
              "    </tr>\n",
              "  </tbody>\n",
              "</table>\n",
              "</div>\n",
              "    <div class=\"colab-df-buttons\">\n",
              "\n",
              "  <div class=\"colab-df-container\">\n",
              "    <button class=\"colab-df-convert\" onclick=\"convertToInteractive('df-3a9721d8-4a9d-466b-bb66-6b6195e8d3cc')\"\n",
              "            title=\"Convert this dataframe to an interactive table.\"\n",
              "            style=\"display:none;\">\n",
              "\n",
              "  <svg xmlns=\"http://www.w3.org/2000/svg\" height=\"24px\" viewBox=\"0 -960 960 960\">\n",
              "    <path d=\"M120-120v-720h720v720H120Zm60-500h600v-160H180v160Zm220 220h160v-160H400v160Zm0 220h160v-160H400v160ZM180-400h160v-160H180v160Zm440 0h160v-160H620v160ZM180-180h160v-160H180v160Zm440 0h160v-160H620v160Z\"/>\n",
              "  </svg>\n",
              "    </button>\n",
              "\n",
              "  <style>\n",
              "    .colab-df-container {\n",
              "      display:flex;\n",
              "      gap: 12px;\n",
              "    }\n",
              "\n",
              "    .colab-df-convert {\n",
              "      background-color: #E8F0FE;\n",
              "      border: none;\n",
              "      border-radius: 50%;\n",
              "      cursor: pointer;\n",
              "      display: none;\n",
              "      fill: #1967D2;\n",
              "      height: 32px;\n",
              "      padding: 0 0 0 0;\n",
              "      width: 32px;\n",
              "    }\n",
              "\n",
              "    .colab-df-convert:hover {\n",
              "      background-color: #E2EBFA;\n",
              "      box-shadow: 0px 1px 2px rgba(60, 64, 67, 0.3), 0px 1px 3px 1px rgba(60, 64, 67, 0.15);\n",
              "      fill: #174EA6;\n",
              "    }\n",
              "\n",
              "    .colab-df-buttons div {\n",
              "      margin-bottom: 4px;\n",
              "    }\n",
              "\n",
              "    [theme=dark] .colab-df-convert {\n",
              "      background-color: #3B4455;\n",
              "      fill: #D2E3FC;\n",
              "    }\n",
              "\n",
              "    [theme=dark] .colab-df-convert:hover {\n",
              "      background-color: #434B5C;\n",
              "      box-shadow: 0px 1px 3px 1px rgba(0, 0, 0, 0.15);\n",
              "      filter: drop-shadow(0px 1px 2px rgba(0, 0, 0, 0.3));\n",
              "      fill: #FFFFFF;\n",
              "    }\n",
              "  </style>\n",
              "\n",
              "    <script>\n",
              "      const buttonEl =\n",
              "        document.querySelector('#df-3a9721d8-4a9d-466b-bb66-6b6195e8d3cc button.colab-df-convert');\n",
              "      buttonEl.style.display =\n",
              "        google.colab.kernel.accessAllowed ? 'block' : 'none';\n",
              "\n",
              "      async function convertToInteractive(key) {\n",
              "        const element = document.querySelector('#df-3a9721d8-4a9d-466b-bb66-6b6195e8d3cc');\n",
              "        const dataTable =\n",
              "          await google.colab.kernel.invokeFunction('convertToInteractive',\n",
              "                                                    [key], {});\n",
              "        if (!dataTable) return;\n",
              "\n",
              "        const docLinkHtml = 'Like what you see? Visit the ' +\n",
              "          '<a target=\"_blank\" href=https://colab.research.google.com/notebooks/data_table.ipynb>data table notebook</a>'\n",
              "          + ' to learn more about interactive tables.';\n",
              "        element.innerHTML = '';\n",
              "        dataTable['output_type'] = 'display_data';\n",
              "        await google.colab.output.renderOutput(dataTable, element);\n",
              "        const docLink = document.createElement('div');\n",
              "        docLink.innerHTML = docLinkHtml;\n",
              "        element.appendChild(docLink);\n",
              "      }\n",
              "    </script>\n",
              "  </div>\n",
              "\n",
              "\n",
              "    <div id=\"df-ad896278-30cd-443b-a2c9-58eadbf7b68a\">\n",
              "      <button class=\"colab-df-quickchart\" onclick=\"quickchart('df-ad896278-30cd-443b-a2c9-58eadbf7b68a')\"\n",
              "                title=\"Suggest charts\"\n",
              "                style=\"display:none;\">\n",
              "\n",
              "<svg xmlns=\"http://www.w3.org/2000/svg\" height=\"24px\"viewBox=\"0 0 24 24\"\n",
              "     width=\"24px\">\n",
              "    <g>\n",
              "        <path d=\"M19 3H5c-1.1 0-2 .9-2 2v14c0 1.1.9 2 2 2h14c1.1 0 2-.9 2-2V5c0-1.1-.9-2-2-2zM9 17H7v-7h2v7zm4 0h-2V7h2v10zm4 0h-2v-4h2v4z\"/>\n",
              "    </g>\n",
              "</svg>\n",
              "      </button>\n",
              "\n",
              "<style>\n",
              "  .colab-df-quickchart {\n",
              "      --bg-color: #E8F0FE;\n",
              "      --fill-color: #1967D2;\n",
              "      --hover-bg-color: #E2EBFA;\n",
              "      --hover-fill-color: #174EA6;\n",
              "      --disabled-fill-color: #AAA;\n",
              "      --disabled-bg-color: #DDD;\n",
              "  }\n",
              "\n",
              "  [theme=dark] .colab-df-quickchart {\n",
              "      --bg-color: #3B4455;\n",
              "      --fill-color: #D2E3FC;\n",
              "      --hover-bg-color: #434B5C;\n",
              "      --hover-fill-color: #FFFFFF;\n",
              "      --disabled-bg-color: #3B4455;\n",
              "      --disabled-fill-color: #666;\n",
              "  }\n",
              "\n",
              "  .colab-df-quickchart {\n",
              "    background-color: var(--bg-color);\n",
              "    border: none;\n",
              "    border-radius: 50%;\n",
              "    cursor: pointer;\n",
              "    display: none;\n",
              "    fill: var(--fill-color);\n",
              "    height: 32px;\n",
              "    padding: 0;\n",
              "    width: 32px;\n",
              "  }\n",
              "\n",
              "  .colab-df-quickchart:hover {\n",
              "    background-color: var(--hover-bg-color);\n",
              "    box-shadow: 0 1px 2px rgba(60, 64, 67, 0.3), 0 1px 3px 1px rgba(60, 64, 67, 0.15);\n",
              "    fill: var(--button-hover-fill-color);\n",
              "  }\n",
              "\n",
              "  .colab-df-quickchart-complete:disabled,\n",
              "  .colab-df-quickchart-complete:disabled:hover {\n",
              "    background-color: var(--disabled-bg-color);\n",
              "    fill: var(--disabled-fill-color);\n",
              "    box-shadow: none;\n",
              "  }\n",
              "\n",
              "  .colab-df-spinner {\n",
              "    border: 2px solid var(--fill-color);\n",
              "    border-color: transparent;\n",
              "    border-bottom-color: var(--fill-color);\n",
              "    animation:\n",
              "      spin 1s steps(1) infinite;\n",
              "  }\n",
              "\n",
              "  @keyframes spin {\n",
              "    0% {\n",
              "      border-color: transparent;\n",
              "      border-bottom-color: var(--fill-color);\n",
              "      border-left-color: var(--fill-color);\n",
              "    }\n",
              "    20% {\n",
              "      border-color: transparent;\n",
              "      border-left-color: var(--fill-color);\n",
              "      border-top-color: var(--fill-color);\n",
              "    }\n",
              "    30% {\n",
              "      border-color: transparent;\n",
              "      border-left-color: var(--fill-color);\n",
              "      border-top-color: var(--fill-color);\n",
              "      border-right-color: var(--fill-color);\n",
              "    }\n",
              "    40% {\n",
              "      border-color: transparent;\n",
              "      border-right-color: var(--fill-color);\n",
              "      border-top-color: var(--fill-color);\n",
              "    }\n",
              "    60% {\n",
              "      border-color: transparent;\n",
              "      border-right-color: var(--fill-color);\n",
              "    }\n",
              "    80% {\n",
              "      border-color: transparent;\n",
              "      border-right-color: var(--fill-color);\n",
              "      border-bottom-color: var(--fill-color);\n",
              "    }\n",
              "    90% {\n",
              "      border-color: transparent;\n",
              "      border-bottom-color: var(--fill-color);\n",
              "    }\n",
              "  }\n",
              "</style>\n",
              "\n",
              "      <script>\n",
              "        async function quickchart(key) {\n",
              "          const quickchartButtonEl =\n",
              "            document.querySelector('#' + key + ' button');\n",
              "          quickchartButtonEl.disabled = true;  // To prevent multiple clicks.\n",
              "          quickchartButtonEl.classList.add('colab-df-spinner');\n",
              "          try {\n",
              "            const charts = await google.colab.kernel.invokeFunction(\n",
              "                'suggestCharts', [key], {});\n",
              "          } catch (error) {\n",
              "            console.error('Error during call to suggestCharts:', error);\n",
              "          }\n",
              "          quickchartButtonEl.classList.remove('colab-df-spinner');\n",
              "          quickchartButtonEl.classList.add('colab-df-quickchart-complete');\n",
              "        }\n",
              "        (() => {\n",
              "          let quickchartButtonEl =\n",
              "            document.querySelector('#df-ad896278-30cd-443b-a2c9-58eadbf7b68a button');\n",
              "          quickchartButtonEl.style.display =\n",
              "            google.colab.kernel.accessAllowed ? 'block' : 'none';\n",
              "        })();\n",
              "      </script>\n",
              "    </div>\n",
              "\n",
              "    </div>\n",
              "  </div>\n"
            ],
            "application/vnd.google.colaboratory.intrinsic+json": {
              "type": "dataframe",
              "variable_name": "df",
              "summary": "{\n  \"name\": \"df\",\n  \"rows\": 398,\n  \"fields\": [\n    {\n      \"column\": \"komentar\",\n      \"properties\": {\n        \"dtype\": \"string\",\n        \"num_unique_values\": 393,\n        \"samples\": [\n          \"<username> <username> Gak malah sty masih gambling, jelas-jelas saat Lilipaly maen lawan Turkmenistan bagus trus sty juga butuh pemain yg senior tapi malah cuma ada dua aja yg senior yaitu Jordi sama klok ini mnurut gua Sty kayak kurang pede malah gambling trus ke Adam alis yg udh di calling dua kali\",\n          \"Pelatih timnas, Shin Tae-yong masih yakin kalau tim nya mengalami perkembangan yang positif, walau menelan hasil mengecewakan dalam uji coba. STY masih memiliki dua kesempatan ujicoba untuk menunjukkan performa tim asuhannya sebelum Piala Asia.  Setuju dengan pendapat STY lob? https://t.co/T9BAyEbnFh\",\n          \"<username> <username> Suka hilang momen adam alis sama strategi sty, keep bola juga terlalu lama shg transisi nya jadi jelek, kualitasnya masih biasa aja sih dibanding gelandang yg sisa\"\n        ],\n        \"semantic_type\": \"\",\n        \"description\": \"\"\n      }\n    },\n    {\n      \"column\": \"label\",\n      \"properties\": {\n        \"dtype\": \"category\",\n        \"num_unique_values\": 2,\n        \"samples\": [\n          \"positif\",\n          \"negatif\"\n        ],\n        \"semantic_type\": \"\",\n        \"description\": \"\"\n      }\n    }\n  ]\n}"
            }
          },
          "metadata": {},
          "execution_count": 9
        }
      ],
      "source": [
        "df = pd.read_csv('Analisis_sentimen_timnas_sepakbola_indonesia_di_era_STY.csv')\n",
        "df.head()"
      ]
    },
    {
      "cell_type": "markdown",
      "id": "de018004",
      "metadata": {
        "papermill": {
          "duration": 0.01168,
          "end_time": "2024-01-12T15:23:35.409946",
          "exception": false,
          "start_time": "2024-01-12T15:23:35.398266",
          "status": "completed"
        },
        "tags": [],
        "id": "de018004"
      },
      "source": [
        "**cek missing value dan duplikat**"
      ]
    },
    {
      "cell_type": "code",
      "execution_count": 10,
      "id": "68a94e43",
      "metadata": {
        "execution": {
          "iopub.execute_input": "2024-01-12T15:23:35.435567Z",
          "iopub.status.busy": "2024-01-12T15:23:35.434628Z",
          "iopub.status.idle": "2024-01-12T15:23:35.452544Z",
          "shell.execute_reply": "2024-01-12T15:23:35.451036Z"
        },
        "papermill": {
          "duration": 0.034401,
          "end_time": "2024-01-12T15:23:35.455857",
          "exception": false,
          "start_time": "2024-01-12T15:23:35.421456",
          "status": "completed"
        },
        "tags": [],
        "colab": {
          "base_uri": "https://localhost:8080/"
        },
        "id": "68a94e43",
        "outputId": "735e3b0b-0c69-4773-9ab2-0a3800be5e1d"
      },
      "outputs": [
        {
          "output_type": "stream",
          "name": "stdout",
          "text": [
            "Missing value:\n",
            "komentar    0\n",
            "label       0\n",
            "dtype: int64\n",
            "\n",
            "\n",
            "Data duplikat:\n",
            "4\n"
          ]
        }
      ],
      "source": [
        "print('Missing value:')\n",
        "print(df.isnull().sum())\n",
        "\n",
        "print('\\n\\nData duplikat:')\n",
        "print(df.duplicated().sum())"
      ]
    },
    {
      "cell_type": "markdown",
      "id": "3755092d",
      "metadata": {
        "papermill": {
          "duration": 0.012106,
          "end_time": "2024-01-12T15:23:35.480586",
          "exception": false,
          "start_time": "2024-01-12T15:23:35.468480",
          "status": "completed"
        },
        "tags": [],
        "id": "3755092d"
      },
      "source": [
        "**buang data duplikat**"
      ]
    },
    {
      "cell_type": "code",
      "execution_count": 11,
      "id": "26c6036d",
      "metadata": {
        "execution": {
          "iopub.execute_input": "2024-01-12T15:23:35.509071Z",
          "iopub.status.busy": "2024-01-12T15:23:35.508558Z",
          "iopub.status.idle": "2024-01-12T15:23:35.528205Z",
          "shell.execute_reply": "2024-01-12T15:23:35.527048Z"
        },
        "papermill": {
          "duration": 0.037418,
          "end_time": "2024-01-12T15:23:35.530740",
          "exception": false,
          "start_time": "2024-01-12T15:23:35.493322",
          "status": "completed"
        },
        "tags": [],
        "colab": {
          "base_uri": "https://localhost:8080/",
          "height": 770
        },
        "id": "26c6036d",
        "outputId": "9be8c2be-4602-4477-e8a5-23af01a0fe5e"
      },
      "outputs": [
        {
          "output_type": "execute_result",
          "data": {
            "text/plain": [
              "                                              komentar    label\n",
              "0    <username> Simulasi indonesia kembali dijajah ...  negatif\n",
              "1    <username> <username> <username> keturunan lai...  negatif\n",
              "2    <username> <username> uda botak keturunan penj...  negatif\n",
              "3    <username> <username> <username> Belum tentu, ...  negatif\n",
              "4    <username> <username> <username> Lu nya aja yg...  negatif\n",
              "..                                                 ...      ...\n",
              "393  <username> <username> 3 tahun lalu indonesia m...  positif\n",
              "394                                                  \\  positif\n",
              "395  Naturalisasi pemain keturunan menjadi langkah ...  positif\n",
              "396  semua persyaratan yang diperlukan untuk proses...  positif\n",
              "397  <username> Mau percaya sama akmal aja udah ane...  positif\n",
              "\n",
              "[394 rows x 2 columns]"
            ],
            "text/html": [
              "\n",
              "  <div id=\"df-0b31e1de-cc98-4fd2-a351-0af211ba7409\" class=\"colab-df-container\">\n",
              "    <div>\n",
              "<style scoped>\n",
              "    .dataframe tbody tr th:only-of-type {\n",
              "        vertical-align: middle;\n",
              "    }\n",
              "\n",
              "    .dataframe tbody tr th {\n",
              "        vertical-align: top;\n",
              "    }\n",
              "\n",
              "    .dataframe thead th {\n",
              "        text-align: right;\n",
              "    }\n",
              "</style>\n",
              "<table border=\"1\" class=\"dataframe\">\n",
              "  <thead>\n",
              "    <tr style=\"text-align: right;\">\n",
              "      <th></th>\n",
              "      <th>komentar</th>\n",
              "      <th>label</th>\n",
              "    </tr>\n",
              "  </thead>\n",
              "  <tbody>\n",
              "    <tr>\n",
              "      <th>0</th>\n",
              "      <td>&lt;username&gt; Simulasi indonesia kembali dijajah ...</td>\n",
              "      <td>negatif</td>\n",
              "    </tr>\n",
              "    <tr>\n",
              "      <th>1</th>\n",
              "      <td>&lt;username&gt; &lt;username&gt; &lt;username&gt; keturunan lai...</td>\n",
              "      <td>negatif</td>\n",
              "    </tr>\n",
              "    <tr>\n",
              "      <th>2</th>\n",
              "      <td>&lt;username&gt; &lt;username&gt; uda botak keturunan penj...</td>\n",
              "      <td>negatif</td>\n",
              "    </tr>\n",
              "    <tr>\n",
              "      <th>3</th>\n",
              "      <td>&lt;username&gt; &lt;username&gt; &lt;username&gt; Belum tentu, ...</td>\n",
              "      <td>negatif</td>\n",
              "    </tr>\n",
              "    <tr>\n",
              "      <th>4</th>\n",
              "      <td>&lt;username&gt; &lt;username&gt; &lt;username&gt; Lu nya aja yg...</td>\n",
              "      <td>negatif</td>\n",
              "    </tr>\n",
              "    <tr>\n",
              "      <th>...</th>\n",
              "      <td>...</td>\n",
              "      <td>...</td>\n",
              "    </tr>\n",
              "    <tr>\n",
              "      <th>393</th>\n",
              "      <td>&lt;username&gt; &lt;username&gt; 3 tahun lalu indonesia m...</td>\n",
              "      <td>positif</td>\n",
              "    </tr>\n",
              "    <tr>\n",
              "      <th>394</th>\n",
              "      <td>\\</td>\n",
              "      <td>positif</td>\n",
              "    </tr>\n",
              "    <tr>\n",
              "      <th>395</th>\n",
              "      <td>Naturalisasi pemain keturunan menjadi langkah ...</td>\n",
              "      <td>positif</td>\n",
              "    </tr>\n",
              "    <tr>\n",
              "      <th>396</th>\n",
              "      <td>semua persyaratan yang diperlukan untuk proses...</td>\n",
              "      <td>positif</td>\n",
              "    </tr>\n",
              "    <tr>\n",
              "      <th>397</th>\n",
              "      <td>&lt;username&gt; Mau percaya sama akmal aja udah ane...</td>\n",
              "      <td>positif</td>\n",
              "    </tr>\n",
              "  </tbody>\n",
              "</table>\n",
              "<p>394 rows × 2 columns</p>\n",
              "</div>\n",
              "    <div class=\"colab-df-buttons\">\n",
              "\n",
              "  <div class=\"colab-df-container\">\n",
              "    <button class=\"colab-df-convert\" onclick=\"convertToInteractive('df-0b31e1de-cc98-4fd2-a351-0af211ba7409')\"\n",
              "            title=\"Convert this dataframe to an interactive table.\"\n",
              "            style=\"display:none;\">\n",
              "\n",
              "  <svg xmlns=\"http://www.w3.org/2000/svg\" height=\"24px\" viewBox=\"0 -960 960 960\">\n",
              "    <path d=\"M120-120v-720h720v720H120Zm60-500h600v-160H180v160Zm220 220h160v-160H400v160Zm0 220h160v-160H400v160ZM180-400h160v-160H180v160Zm440 0h160v-160H620v160ZM180-180h160v-160H180v160Zm440 0h160v-160H620v160Z\"/>\n",
              "  </svg>\n",
              "    </button>\n",
              "\n",
              "  <style>\n",
              "    .colab-df-container {\n",
              "      display:flex;\n",
              "      gap: 12px;\n",
              "    }\n",
              "\n",
              "    .colab-df-convert {\n",
              "      background-color: #E8F0FE;\n",
              "      border: none;\n",
              "      border-radius: 50%;\n",
              "      cursor: pointer;\n",
              "      display: none;\n",
              "      fill: #1967D2;\n",
              "      height: 32px;\n",
              "      padding: 0 0 0 0;\n",
              "      width: 32px;\n",
              "    }\n",
              "\n",
              "    .colab-df-convert:hover {\n",
              "      background-color: #E2EBFA;\n",
              "      box-shadow: 0px 1px 2px rgba(60, 64, 67, 0.3), 0px 1px 3px 1px rgba(60, 64, 67, 0.15);\n",
              "      fill: #174EA6;\n",
              "    }\n",
              "\n",
              "    .colab-df-buttons div {\n",
              "      margin-bottom: 4px;\n",
              "    }\n",
              "\n",
              "    [theme=dark] .colab-df-convert {\n",
              "      background-color: #3B4455;\n",
              "      fill: #D2E3FC;\n",
              "    }\n",
              "\n",
              "    [theme=dark] .colab-df-convert:hover {\n",
              "      background-color: #434B5C;\n",
              "      box-shadow: 0px 1px 3px 1px rgba(0, 0, 0, 0.15);\n",
              "      filter: drop-shadow(0px 1px 2px rgba(0, 0, 0, 0.3));\n",
              "      fill: #FFFFFF;\n",
              "    }\n",
              "  </style>\n",
              "\n",
              "    <script>\n",
              "      const buttonEl =\n",
              "        document.querySelector('#df-0b31e1de-cc98-4fd2-a351-0af211ba7409 button.colab-df-convert');\n",
              "      buttonEl.style.display =\n",
              "        google.colab.kernel.accessAllowed ? 'block' : 'none';\n",
              "\n",
              "      async function convertToInteractive(key) {\n",
              "        const element = document.querySelector('#df-0b31e1de-cc98-4fd2-a351-0af211ba7409');\n",
              "        const dataTable =\n",
              "          await google.colab.kernel.invokeFunction('convertToInteractive',\n",
              "                                                    [key], {});\n",
              "        if (!dataTable) return;\n",
              "\n",
              "        const docLinkHtml = 'Like what you see? Visit the ' +\n",
              "          '<a target=\"_blank\" href=https://colab.research.google.com/notebooks/data_table.ipynb>data table notebook</a>'\n",
              "          + ' to learn more about interactive tables.';\n",
              "        element.innerHTML = '';\n",
              "        dataTable['output_type'] = 'display_data';\n",
              "        await google.colab.output.renderOutput(dataTable, element);\n",
              "        const docLink = document.createElement('div');\n",
              "        docLink.innerHTML = docLinkHtml;\n",
              "        element.appendChild(docLink);\n",
              "      }\n",
              "    </script>\n",
              "  </div>\n",
              "\n",
              "\n",
              "    <div id=\"df-19cda763-a569-41a8-af56-d4b9c1e3e4a2\">\n",
              "      <button class=\"colab-df-quickchart\" onclick=\"quickchart('df-19cda763-a569-41a8-af56-d4b9c1e3e4a2')\"\n",
              "                title=\"Suggest charts\"\n",
              "                style=\"display:none;\">\n",
              "\n",
              "<svg xmlns=\"http://www.w3.org/2000/svg\" height=\"24px\"viewBox=\"0 0 24 24\"\n",
              "     width=\"24px\">\n",
              "    <g>\n",
              "        <path d=\"M19 3H5c-1.1 0-2 .9-2 2v14c0 1.1.9 2 2 2h14c1.1 0 2-.9 2-2V5c0-1.1-.9-2-2-2zM9 17H7v-7h2v7zm4 0h-2V7h2v10zm4 0h-2v-4h2v4z\"/>\n",
              "    </g>\n",
              "</svg>\n",
              "      </button>\n",
              "\n",
              "<style>\n",
              "  .colab-df-quickchart {\n",
              "      --bg-color: #E8F0FE;\n",
              "      --fill-color: #1967D2;\n",
              "      --hover-bg-color: #E2EBFA;\n",
              "      --hover-fill-color: #174EA6;\n",
              "      --disabled-fill-color: #AAA;\n",
              "      --disabled-bg-color: #DDD;\n",
              "  }\n",
              "\n",
              "  [theme=dark] .colab-df-quickchart {\n",
              "      --bg-color: #3B4455;\n",
              "      --fill-color: #D2E3FC;\n",
              "      --hover-bg-color: #434B5C;\n",
              "      --hover-fill-color: #FFFFFF;\n",
              "      --disabled-bg-color: #3B4455;\n",
              "      --disabled-fill-color: #666;\n",
              "  }\n",
              "\n",
              "  .colab-df-quickchart {\n",
              "    background-color: var(--bg-color);\n",
              "    border: none;\n",
              "    border-radius: 50%;\n",
              "    cursor: pointer;\n",
              "    display: none;\n",
              "    fill: var(--fill-color);\n",
              "    height: 32px;\n",
              "    padding: 0;\n",
              "    width: 32px;\n",
              "  }\n",
              "\n",
              "  .colab-df-quickchart:hover {\n",
              "    background-color: var(--hover-bg-color);\n",
              "    box-shadow: 0 1px 2px rgba(60, 64, 67, 0.3), 0 1px 3px 1px rgba(60, 64, 67, 0.15);\n",
              "    fill: var(--button-hover-fill-color);\n",
              "  }\n",
              "\n",
              "  .colab-df-quickchart-complete:disabled,\n",
              "  .colab-df-quickchart-complete:disabled:hover {\n",
              "    background-color: var(--disabled-bg-color);\n",
              "    fill: var(--disabled-fill-color);\n",
              "    box-shadow: none;\n",
              "  }\n",
              "\n",
              "  .colab-df-spinner {\n",
              "    border: 2px solid var(--fill-color);\n",
              "    border-color: transparent;\n",
              "    border-bottom-color: var(--fill-color);\n",
              "    animation:\n",
              "      spin 1s steps(1) infinite;\n",
              "  }\n",
              "\n",
              "  @keyframes spin {\n",
              "    0% {\n",
              "      border-color: transparent;\n",
              "      border-bottom-color: var(--fill-color);\n",
              "      border-left-color: var(--fill-color);\n",
              "    }\n",
              "    20% {\n",
              "      border-color: transparent;\n",
              "      border-left-color: var(--fill-color);\n",
              "      border-top-color: var(--fill-color);\n",
              "    }\n",
              "    30% {\n",
              "      border-color: transparent;\n",
              "      border-left-color: var(--fill-color);\n",
              "      border-top-color: var(--fill-color);\n",
              "      border-right-color: var(--fill-color);\n",
              "    }\n",
              "    40% {\n",
              "      border-color: transparent;\n",
              "      border-right-color: var(--fill-color);\n",
              "      border-top-color: var(--fill-color);\n",
              "    }\n",
              "    60% {\n",
              "      border-color: transparent;\n",
              "      border-right-color: var(--fill-color);\n",
              "    }\n",
              "    80% {\n",
              "      border-color: transparent;\n",
              "      border-right-color: var(--fill-color);\n",
              "      border-bottom-color: var(--fill-color);\n",
              "    }\n",
              "    90% {\n",
              "      border-color: transparent;\n",
              "      border-bottom-color: var(--fill-color);\n",
              "    }\n",
              "  }\n",
              "</style>\n",
              "\n",
              "      <script>\n",
              "        async function quickchart(key) {\n",
              "          const quickchartButtonEl =\n",
              "            document.querySelector('#' + key + ' button');\n",
              "          quickchartButtonEl.disabled = true;  // To prevent multiple clicks.\n",
              "          quickchartButtonEl.classList.add('colab-df-spinner');\n",
              "          try {\n",
              "            const charts = await google.colab.kernel.invokeFunction(\n",
              "                'suggestCharts', [key], {});\n",
              "          } catch (error) {\n",
              "            console.error('Error during call to suggestCharts:', error);\n",
              "          }\n",
              "          quickchartButtonEl.classList.remove('colab-df-spinner');\n",
              "          quickchartButtonEl.classList.add('colab-df-quickchart-complete');\n",
              "        }\n",
              "        (() => {\n",
              "          let quickchartButtonEl =\n",
              "            document.querySelector('#df-19cda763-a569-41a8-af56-d4b9c1e3e4a2 button');\n",
              "          quickchartButtonEl.style.display =\n",
              "            google.colab.kernel.accessAllowed ? 'block' : 'none';\n",
              "        })();\n",
              "      </script>\n",
              "    </div>\n",
              "\n",
              "    </div>\n",
              "  </div>\n"
            ],
            "application/vnd.google.colaboratory.intrinsic+json": {
              "type": "dataframe",
              "summary": "{\n  \"name\": \"df\",\n  \"rows\": 394,\n  \"fields\": [\n    {\n      \"column\": \"komentar\",\n      \"properties\": {\n        \"dtype\": \"string\",\n        \"num_unique_values\": 393,\n        \"samples\": [\n          \"<username> <username> Gak malah sty masih gambling, jelas-jelas saat Lilipaly maen lawan Turkmenistan bagus trus sty juga butuh pemain yg senior tapi malah cuma ada dua aja yg senior yaitu Jordi sama klok ini mnurut gua Sty kayak kurang pede malah gambling trus ke Adam alis yg udh di calling dua kali\",\n          \"Pelatih timnas, Shin Tae-yong masih yakin kalau tim nya mengalami perkembangan yang positif, walau menelan hasil mengecewakan dalam uji coba. STY masih memiliki dua kesempatan ujicoba untuk menunjukkan performa tim asuhannya sebelum Piala Asia.  Setuju dengan pendapat STY lob? https://t.co/T9BAyEbnFh\",\n          \"<username> <username> Suka hilang momen adam alis sama strategi sty, keep bola juga terlalu lama shg transisi nya jadi jelek, kualitasnya masih biasa aja sih dibanding gelandang yg sisa\"\n        ],\n        \"semantic_type\": \"\",\n        \"description\": \"\"\n      }\n    },\n    {\n      \"column\": \"label\",\n      \"properties\": {\n        \"dtype\": \"category\",\n        \"num_unique_values\": 2,\n        \"samples\": [\n          \"positif\",\n          \"negatif\"\n        ],\n        \"semantic_type\": \"\",\n        \"description\": \"\"\n      }\n    }\n  ]\n}"
            }
          },
          "metadata": {},
          "execution_count": 11
        }
      ],
      "source": [
        "df.drop_duplicates()"
      ]
    },
    {
      "cell_type": "markdown",
      "id": "a1eed259",
      "metadata": {
        "papermill": {
          "duration": 0.012331,
          "end_time": "2024-01-12T15:23:35.555483",
          "exception": false,
          "start_time": "2024-01-12T15:23:35.543152",
          "status": "completed"
        },
        "tags": [],
        "id": "a1eed259"
      },
      "source": [
        "**Mengubah semua huruf menjadi huruf kecil**"
      ]
    },
    {
      "cell_type": "code",
      "execution_count": 12,
      "id": "9621e560",
      "metadata": {
        "execution": {
          "iopub.execute_input": "2024-01-12T15:23:35.584893Z",
          "iopub.status.busy": "2024-01-12T15:23:35.583408Z",
          "iopub.status.idle": "2024-01-12T15:23:35.593224Z",
          "shell.execute_reply": "2024-01-12T15:23:35.592052Z"
        },
        "papermill": {
          "duration": 0.0273,
          "end_time": "2024-01-12T15:23:35.595823",
          "exception": false,
          "start_time": "2024-01-12T15:23:35.568523",
          "status": "completed"
        },
        "tags": [],
        "id": "9621e560"
      },
      "outputs": [],
      "source": [
        "df['komentar'] = df['komentar'].str.lower()"
      ]
    },
    {
      "cell_type": "markdown",
      "id": "7b57bc50",
      "metadata": {
        "papermill": {
          "duration": 0.012678,
          "end_time": "2024-01-12T15:23:35.621168",
          "exception": false,
          "start_time": "2024-01-12T15:23:35.608490",
          "status": "completed"
        },
        "tags": [],
        "id": "7b57bc50"
      },
      "source": [
        "**Menghapus tanda baca**"
      ]
    },
    {
      "cell_type": "code",
      "execution_count": 13,
      "id": "871257ed",
      "metadata": {
        "execution": {
          "iopub.execute_input": "2024-01-12T15:23:35.648555Z",
          "iopub.status.busy": "2024-01-12T15:23:35.647759Z",
          "iopub.status.idle": "2024-01-12T15:23:35.658177Z",
          "shell.execute_reply": "2024-01-12T15:23:35.657066Z"
        },
        "papermill": {
          "duration": 0.028622,
          "end_time": "2024-01-12T15:23:35.662147",
          "exception": false,
          "start_time": "2024-01-12T15:23:35.633525",
          "status": "completed"
        },
        "tags": [],
        "id": "871257ed"
      },
      "outputs": [],
      "source": [
        "def remove_punctuation(words):\n",
        "    return words.translate(str.maketrans('','',string.punctuation))\n",
        "df['komentar'] = df['komentar'].apply(remove_punctuation)"
      ]
    },
    {
      "cell_type": "code",
      "source": [
        "import nltk\n",
        "nltk.download('punkt')\n",
        "nltk.download('punkt_tab')"
      ],
      "metadata": {
        "colab": {
          "base_uri": "https://localhost:8080/"
        },
        "id": "lyUANoNlAAVu",
        "outputId": "7af4cad6-a25f-4cd1-e191-5e9e3b4a7233"
      },
      "id": "lyUANoNlAAVu",
      "execution_count": 15,
      "outputs": [
        {
          "output_type": "stream",
          "name": "stderr",
          "text": [
            "[nltk_data] Downloading package punkt to /root/nltk_data...\n",
            "[nltk_data]   Package punkt is already up-to-date!\n",
            "[nltk_data] Downloading package punkt_tab to /root/nltk_data...\n",
            "[nltk_data]   Unzipping tokenizers/punkt_tab.zip.\n"
          ]
        },
        {
          "output_type": "execute_result",
          "data": {
            "text/plain": [
              "True"
            ]
          },
          "metadata": {},
          "execution_count": 15
        }
      ]
    },
    {
      "cell_type": "markdown",
      "id": "1fad9ddf",
      "metadata": {
        "papermill": {
          "duration": 0.011927,
          "end_time": "2024-01-12T15:23:35.686582",
          "exception": false,
          "start_time": "2024-01-12T15:23:35.674655",
          "status": "completed"
        },
        "tags": [],
        "id": "1fad9ddf"
      },
      "source": [
        "**Menghapus stopword**, yaitu kata-kata yang tidak terlalu mempengaruhi sentimen"
      ]
    },
    {
      "cell_type": "code",
      "execution_count": 16,
      "id": "d5fec0b7",
      "metadata": {
        "execution": {
          "iopub.execute_input": "2024-01-12T15:23:35.713520Z",
          "iopub.status.busy": "2024-01-12T15:23:35.713042Z",
          "iopub.status.idle": "2024-01-12T15:23:35.881005Z",
          "shell.execute_reply": "2024-01-12T15:23:35.879709Z"
        },
        "papermill": {
          "duration": 0.18521,
          "end_time": "2024-01-12T15:23:35.883890",
          "exception": false,
          "start_time": "2024-01-12T15:23:35.698680",
          "status": "completed"
        },
        "tags": [],
        "id": "d5fec0b7"
      },
      "outputs": [],
      "source": [
        "stop_word = [\n",
        "    'yg',\n",
        "    'yang',\n",
        "    'di',\n",
        "    'ini',\n",
        "    'dan',\n",
        "    'aja',\n",
        "    'username',\n",
        "    'itu',\n",
        "    'ya'\n",
        "]\n",
        "\n",
        "def remove_stop_word(words):\n",
        "    return [word for word in words if word not in stop_word]\n",
        "\n",
        "df['komentar'] = df['komentar'].apply(word_tokenize)\n",
        "\n",
        "df['komentar'] = df['komentar'].apply(remove_stop_word)\n",
        "\n",
        "# Join lagi untuk melakukan EDA\n",
        "df['komentar'] = df['komentar'].apply(' '.join)"
      ]
    },
    {
      "cell_type": "markdown",
      "id": "bb2c8486",
      "metadata": {
        "papermill": {
          "duration": 0.012176,
          "end_time": "2024-01-12T15:23:35.908237",
          "exception": false,
          "start_time": "2024-01-12T15:23:35.896061",
          "status": "completed"
        },
        "tags": [],
        "id": "bb2c8486"
      },
      "source": [
        "# Exploratory Data Analysis (EDA)"
      ]
    },
    {
      "cell_type": "markdown",
      "id": "c22e406d",
      "metadata": {
        "papermill": {
          "duration": 0.012791,
          "end_time": "2024-01-12T15:23:35.934083",
          "exception": false,
          "start_time": "2024-01-12T15:23:35.921292",
          "status": "completed"
        },
        "tags": [],
        "id": "c22e406d"
      },
      "source": [
        "**Menganalisa contoh komentar positif dan negatif**"
      ]
    },
    {
      "cell_type": "code",
      "execution_count": 17,
      "id": "a756a03d",
      "metadata": {
        "execution": {
          "iopub.execute_input": "2024-01-12T15:23:35.961035Z",
          "iopub.status.busy": "2024-01-12T15:23:35.960514Z",
          "iopub.status.idle": "2024-01-12T15:23:35.976092Z",
          "shell.execute_reply": "2024-01-12T15:23:35.974325Z"
        },
        "papermill": {
          "duration": 0.032047,
          "end_time": "2024-01-12T15:23:35.978483",
          "exception": false,
          "start_time": "2024-01-12T15:23:35.946436",
          "status": "completed"
        },
        "tags": [],
        "colab": {
          "base_uri": "https://localhost:8080/"
        },
        "id": "a756a03d",
        "outputId": "453e2b8c-82bc-4d98-9286-7e6814b38785"
      },
      "outputs": [
        {
          "output_type": "stream",
          "name": "stdout",
          "text": [
            "email # 1\n",
            "indonesia 02 libya sty pasti berbenah baik taktik amp susunan pemain tapi libya sepertinya masih akan unggul strategibola tebakskor indonesia libya\n",
            "\n",
            "email # 2\n",
            "suka tidak suka coach sty lah berhasil membawa gairah positif untuk timnas level senior karena sejak evan dimas cs berhasil juala aff u19 orang2 cenderung lebih mengikuti timnas level junior ketimbang senior karena peforma timnas senior waktu jelek\n",
            "\n",
            "email # 3\n",
            "paling kerja keras tinggi menurut sty kalau lokal ada 2 pemainasnawi pratama arhan dia sering bikin contoh 2 pemain ketika ngelatih timnas kelompok umur arhan pas masih sering main emang ggsalah pilih klub dia\n",
            "\n",
            "email # 4\n",
            "salah satu alasan juga knp klub2 korea ttp ngelirik asnawi krn dari data statistik mereka pasti asnawi msh terhitung bagus buat standar kuota pemain asing bukan masalah koneksi sty dll arhan juga trmasuk kategori\n",
            "\n",
            "email # 5\n",
            "tolonglah sty ngelath dri rank 170an tekhnik pasing operan dasar masih ajarin latihan timnas seharusnya akademi ssb klub masing2 ga melulu soal piala juara aff target pssi naik level ke jajaran asia bukan asean lagi\n",
            "\n",
            "email # 6\n",
            "namanya pertandingan uji coba wajar kalau sty bereksperimen netizen coba baca deh ulasannya bagus ðÿ ‘ ðÿ »\n",
            "\n",
            "email # 7\n",
            "netijen benci sty mana mau liat fakta beginian ndos mereka beralibi sty belum juara padahal memberi jam terbang pemain muda penting\n",
            "\n",
            "email # 8\n",
            "lhaaaa mungkin dijadikan dasar bagi sty untuk masang asnawi jadi bukan karena kesayangan dll\n",
            "\n",
            "email # 9\n",
            "arkhan fikri tidak usah kecewapada saatnya timnas indonesia akan diisi full httpstcoiwhkclmsyu memburu juarapiala asia tenggara piala asia sty hebat erick thohir juga hebat\n",
            "\n",
            "email # 10\n",
            "gila sih sty pemain tertua usia 31ðÿ˜‚\n",
            "\n"
          ]
        }
      ],
      "source": [
        "for i in range(1,11):\n",
        "    print('email #', i)\n",
        "    komentar_positif = df[df['label'] == 'positif']['komentar'].iloc[i]\n",
        "    print(komentar_positif + '\\n')"
      ]
    },
    {
      "cell_type": "markdown",
      "id": "4c74018e",
      "metadata": {
        "papermill": {
          "duration": 0.012735,
          "end_time": "2024-01-12T15:23:36.003595",
          "exception": false,
          "start_time": "2024-01-12T15:23:35.990860",
          "status": "completed"
        },
        "tags": [],
        "id": "4c74018e"
      },
      "source": [
        "Dari 10 contoh yang diberikan, dapat dilihat bahwa komentar dengan sentimen positif ditandai dengan rasa kepercayaan yang tinggi kepada pelatih, apresiasi pencapaian pelatih, kekaguman terhadap pelatih, serta terkesan membela timnas yang dilatih oleh STY."
      ]
    },
    {
      "cell_type": "code",
      "execution_count": 18,
      "id": "52e17d4a",
      "metadata": {
        "execution": {
          "iopub.execute_input": "2024-01-12T15:23:36.031292Z",
          "iopub.status.busy": "2024-01-12T15:23:36.030516Z",
          "iopub.status.idle": "2024-01-12T15:23:36.043679Z",
          "shell.execute_reply": "2024-01-12T15:23:36.042075Z"
        },
        "papermill": {
          "duration": 0.030164,
          "end_time": "2024-01-12T15:23:36.046410",
          "exception": false,
          "start_time": "2024-01-12T15:23:36.016246",
          "status": "completed"
        },
        "tags": [],
        "colab": {
          "base_uri": "https://localhost:8080/"
        },
        "id": "52e17d4a",
        "outputId": "08f95ca5-1227-4646-fce5-286fc8de8f08"
      },
      "outputs": [
        {
          "output_type": "stream",
          "name": "stdout",
          "text": [
            "email # 1\n",
            "keturunan lain gak main bola emang bisa naturalisasi istimewa kepentingan negara sesuatu subjektif tergantung petingginya akal akalan naturalisasi biasa wajib bisa bahasa indonesia\n",
            "\n",
            "email # 2\n",
            "uda botak keturunan penjajah sok si paling paham tentang bola lu coach mentok karir ngelatih futsal sok oke lu anjing\n",
            "\n",
            "email # 3\n",
            "belum tentu gak semuanya jadi pemain bola milih karir sebagai pemain bola pun belum tentu kualitasnya cukup buat timnas kalau pssi cuma fokus ke pemain keturunan mah sama mempersempit kolam mereka sendiri\n",
            "\n",
            "email # 4\n",
            "lu nya bego makanya nonton sendiri tolol persepsi orang beda nggak harus sama bego memang coach tolol sty tolol out udah\n",
            "\n",
            "email # 5\n",
            "saya punya saran kepada kita terkenal dengan pola permainan cepat jika dihilangkan maka bahaya besar dalam persepak bolaan kita jadi mohon disampaikan ke ciri khas permainan kita\n",
            "\n",
            "email # 6\n",
            "sty ga coba asnawi jadi gelandang vo2 max nya paling tinggi loh diantara pemain timnas\n",
            "\n",
            "email # 7\n",
            "bukan masalah bnyak kesempatan tiap taun juga bnyak turnament sebenernya tpi gua rasa salah satu hajat besar pssi tiap taun cuman bersaing level asia tenggara piala asia inilah kredibilitas etsty pertaruhkan klo pildun mah merem dh jngn ketinggian ekspetasinya\n",
            "\n",
            "email # 8\n",
            "biasa sty klo tantrum kan gtu semua hal dibawaâ² mna gaada ngingetin pulaa\n",
            "\n",
            "email # 9\n",
            "setelah pulang ke tanah air apakah akan dilempari telur juga layak nya timnas korsel gagal era sty ðÿ¥²ðÿ¥²ðÿ¥²\n",
            "\n",
            "email # 10\n",
            "posisinya arhan double juga tuh sama edo apa spesialnya bgst arhan sty emang nih\n",
            "\n"
          ]
        }
      ],
      "source": [
        "for i in range(1,11):\n",
        "    print('email #', i)\n",
        "    komentar_negatif = df[df['label'] == 'negatif']['komentar'].iloc[i]\n",
        "    print(komentar_negatif + '\\n')"
      ]
    },
    {
      "cell_type": "markdown",
      "id": "bc8a3c69",
      "metadata": {
        "papermill": {
          "duration": 0.012652,
          "end_time": "2024-01-12T15:23:36.071832",
          "exception": false,
          "start_time": "2024-01-12T15:23:36.059180",
          "status": "completed"
        },
        "tags": [],
        "id": "bc8a3c69"
      },
      "source": [
        "Dari 10 contoh komentar negatif, dapat dilihat bahwa komentar bersentimen negatif mengandung kata-kata kasar, terkesan tidak percaya strategi pelatih, mempermasalahkan pemain keturunan (atau naturalisasi), dan tidak jarang meminta pelatih STY untuk tidak melatih timnas."
      ]
    },
    {
      "cell_type": "markdown",
      "id": "54004114",
      "metadata": {
        "papermill": {
          "duration": 0.085262,
          "end_time": "2024-01-12T15:23:36.169550",
          "exception": false,
          "start_time": "2024-01-12T15:23:36.084288",
          "status": "completed"
        },
        "tags": [],
        "id": "54004114"
      },
      "source": [
        "**Perbandingan data positif dan data negatif**"
      ]
    },
    {
      "cell_type": "code",
      "execution_count": 19,
      "id": "3b0788b6",
      "metadata": {
        "execution": {
          "iopub.execute_input": "2024-01-12T15:23:36.198207Z",
          "iopub.status.busy": "2024-01-12T15:23:36.197314Z",
          "iopub.status.idle": "2024-01-12T15:23:36.412295Z",
          "shell.execute_reply": "2024-01-12T15:23:36.410530Z"
        },
        "papermill": {
          "duration": 0.23417,
          "end_time": "2024-01-12T15:23:36.416696",
          "exception": false,
          "start_time": "2024-01-12T15:23:36.182526",
          "status": "completed"
        },
        "tags": [],
        "colab": {
          "base_uri": "https://localhost:8080/",
          "height": 541
        },
        "id": "3b0788b6",
        "outputId": "4bb90f44-c13b-49f9-c9e9-f08c1dd7a7a4"
      },
      "outputs": [
        {
          "output_type": "display_data",
          "data": {
            "text/plain": [
              "<Figure size 800x600 with 1 Axes>"
            ],
            "image/png": "[encoded data removed]"
          },
          "metadata": {}
        }
      ],
      "source": [
        "jumlah_komentar = df['label'].value_counts()\n",
        "\n",
        "plt.figure(figsize=(8,6))\n",
        "plt.pie(jumlah_komentar, labels=['Positif', 'Negatif'], autopct='%1.1f%%', startangle=140, colors=['orange', 'lightblue'])\n",
        "plt.title('Perbandingan banyaknya data komentar positif dan negatif')\n",
        "plt.show()"
      ]
    },
    {
      "cell_type": "code",
      "execution_count": 20,
      "id": "f9ab037f",
      "metadata": {
        "execution": {
          "iopub.execute_input": "2024-01-12T15:23:36.457203Z",
          "iopub.status.busy": "2024-01-12T15:23:36.456410Z",
          "iopub.status.idle": "2024-01-12T15:23:36.472989Z",
          "shell.execute_reply": "2024-01-12T15:23:36.471723Z"
        },
        "papermill": {
          "duration": 0.034973,
          "end_time": "2024-01-12T15:23:36.475977",
          "exception": false,
          "start_time": "2024-01-12T15:23:36.441004",
          "status": "completed"
        },
        "tags": [],
        "id": "f9ab037f"
      },
      "outputs": [],
      "source": [
        "# Pisahkan komentar positif dan negatif\n",
        "komentar_positif = df[df['label'] == 'positif']['komentar']\n",
        "komentar_negatif = df[df['label'] == 'negatif']['komentar']\n",
        "\n",
        "kata_positif = Counter()\n",
        "komentar_positif.apply(lambda x: kata_positif.update(x.split()))\n",
        "\n",
        "kata_negatif = Counter()\n",
        "komentar_negatif.apply(lambda x: kata_negatif.update(x.split()))\n",
        "\n",
        "# mengetahui 10 kata yang paling sering digunakan\n",
        "top_kata_positif = kata_positif.most_common(10)\n",
        "top_kata_negatif = kata_negatif.most_common(10)\n",
        "\n",
        "top_kata_positif_df = pd.DataFrame(top_kata_positif, columns=['Kata','Frekuensi'])\n",
        "top_kata_negatif_df = pd.DataFrame(top_kata_negatif, columns=['Kata','Frekuensi'])"
      ]
    },
    {
      "cell_type": "code",
      "execution_count": 21,
      "id": "8bd59a21",
      "metadata": {
        "execution": {
          "iopub.execute_input": "2024-01-12T15:23:36.505311Z",
          "iopub.status.busy": "2024-01-12T15:23:36.504815Z",
          "iopub.status.idle": "2024-01-12T15:23:37.223575Z",
          "shell.execute_reply": "2024-01-12T15:23:37.222479Z"
        },
        "papermill": {
          "duration": 0.736361,
          "end_time": "2024-01-12T15:23:37.226145",
          "exception": false,
          "start_time": "2024-01-12T15:23:36.489784",
          "status": "completed"
        },
        "tags": [],
        "colab": {
          "base_uri": "https://localhost:8080/",
          "height": 120
        },
        "id": "8bd59a21",
        "outputId": "7be7fbc5-1eb5-4b9d-f90a-3be6831fb031"
      },
      "outputs": [
        {
          "output_type": "display_data",
          "data": {
            "text/plain": [
              "<Figure size 1500x500 with 2 Axes>"
            ],
            "image/png": "[encoded data removed]"
          },
          "metadata": {}
        }
      ],
      "source": [
        "plt.figure(figsize=(15, 5))\n",
        "\n",
        "plt.subplot(1, 2, 1)\n",
        "plt.bar(top_kata_negatif_df['Kata'], top_kata_negatif_df['Frekuensi'], color='red')\n",
        "plt.title('10 kata negatif terbanyak')\n",
        "plt.xticks(rotation=45)\n",
        "\n",
        "plt.subplot(1, 2, 2)\n",
        "plt.bar(top_kata_positif_df['Kata'], top_kata_positif_df['Frekuensi'], color='green')\n",
        "plt.title('10 kata positif terbanyak')\n",
        "plt.xticks(rotation=45)\n",
        "\n",
        "plt.tight_layout()\n",
        "plt.show()"
      ]
    },
    {
      "cell_type": "markdown",
      "id": "7eac9e9f",
      "metadata": {
        "papermill": {
          "duration": 0.014333,
          "end_time": "2024-01-12T15:23:37.254686",
          "exception": false,
          "start_time": "2024-01-12T15:23:37.240353",
          "status": "completed"
        },
        "tags": [],
        "id": "7eac9e9f"
      },
      "source": [
        "# Feature engineering"
      ]
    },
    {
      "cell_type": "markdown",
      "id": "2cdc1a45",
      "metadata": {
        "papermill": {
          "duration": 0.013776,
          "end_time": "2024-01-12T15:23:37.282719",
          "exception": false,
          "start_time": "2024-01-12T15:23:37.268943",
          "status": "completed"
        },
        "tags": [],
        "id": "2cdc1a45"
      },
      "source": [
        "**Membagi data training dan testing**"
      ]
    },
    {
      "cell_type": "code",
      "execution_count": 22,
      "id": "77019f52",
      "metadata": {
        "execution": {
          "iopub.execute_input": "2024-01-12T15:23:37.314610Z",
          "iopub.status.busy": "2024-01-12T15:23:37.313800Z",
          "iopub.status.idle": "2024-01-12T15:23:37.323166Z",
          "shell.execute_reply": "2024-01-12T15:23:37.321736Z"
        },
        "papermill": {
          "duration": 0.027832,
          "end_time": "2024-01-12T15:23:37.325679",
          "exception": false,
          "start_time": "2024-01-12T15:23:37.297847",
          "status": "completed"
        },
        "tags": [],
        "id": "77019f52"
      },
      "outputs": [],
      "source": [
        "X = df['komentar']\n",
        "y = df['label']\n",
        "\n",
        "X_train, X_test, y_train, y_test = tts(X, y, test_size=0.2, random_state=7)"
      ]
    },
    {
      "cell_type": "markdown",
      "id": "ae010495",
      "metadata": {
        "papermill": {
          "duration": 0.013654,
          "end_time": "2024-01-12T15:23:37.354051",
          "exception": false,
          "start_time": "2024-01-12T15:23:37.340397",
          "status": "completed"
        },
        "tags": [],
        "id": "ae010495"
      },
      "source": [
        "**Tokenization atau penguraian kalimat menjadi kata**"
      ]
    },
    {
      "cell_type": "code",
      "execution_count": 23,
      "id": "98835167",
      "metadata": {
        "execution": {
          "iopub.execute_input": "2024-01-12T15:23:37.384181Z",
          "iopub.status.busy": "2024-01-12T15:23:37.383755Z",
          "iopub.status.idle": "2024-01-12T15:23:37.417347Z",
          "shell.execute_reply": "2024-01-12T15:23:37.416124Z"
        },
        "papermill": {
          "duration": 0.052439,
          "end_time": "2024-01-12T15:23:37.420621",
          "exception": false,
          "start_time": "2024-01-12T15:23:37.368182",
          "status": "completed"
        },
        "tags": [],
        "id": "98835167"
      },
      "outputs": [],
      "source": [
        "max_kata = 1000\n",
        "tokenizer = Tokenizer(num_words=max_kata)\n",
        "tokenizer.fit_on_texts(X_train)\n",
        "\n",
        "X_train_seq = tokenizer.texts_to_sequences(X_train)\n",
        "X_test_seq = tokenizer.texts_to_sequences(X_test)"
      ]
    },
    {
      "cell_type": "markdown",
      "id": "63d0b05c",
      "metadata": {
        "papermill": {
          "duration": 0.013749,
          "end_time": "2024-01-12T15:23:37.448714",
          "exception": false,
          "start_time": "2024-01-12T15:23:37.434965",
          "status": "completed"
        },
        "tags": [],
        "id": "63d0b05c"
      },
      "source": [
        "**Padding, yaitu penyetaraan banyak kata tiap komentar**"
      ]
    },
    {
      "cell_type": "markdown",
      "id": "dc458888",
      "metadata": {
        "papermill": {
          "duration": 0.015043,
          "end_time": "2024-01-12T15:23:37.478025",
          "exception": false,
          "start_time": "2024-01-12T15:23:37.462982",
          "status": "completed"
        },
        "tags": [],
        "id": "dc458888"
      },
      "source": [
        "agar tidak bingung menentukan angkanya, maka dapat dilihat terlebih dahulu mediannya"
      ]
    },
    {
      "cell_type": "code",
      "execution_count": 24,
      "id": "6f5b0377",
      "metadata": {
        "execution": {
          "iopub.execute_input": "2024-01-12T15:23:37.508786Z",
          "iopub.status.busy": "2024-01-12T15:23:37.508362Z",
          "iopub.status.idle": "2024-01-12T15:23:37.517205Z",
          "shell.execute_reply": "2024-01-12T15:23:37.515988Z"
        },
        "papermill": {
          "duration": 0.027833,
          "end_time": "2024-01-12T15:23:37.520298",
          "exception": false,
          "start_time": "2024-01-12T15:23:37.492465",
          "status": "completed"
        },
        "tags": [],
        "colab": {
          "base_uri": "https://localhost:8080/"
        },
        "id": "6f5b0377",
        "outputId": "96e136ab-ac8c-497b-c459-d1dd3fc1842f"
      },
      "outputs": [
        {
          "output_type": "stream",
          "name": "stdout",
          "text": [
            "Median data training:  17.0\n"
          ]
        }
      ],
      "source": [
        "panjang_sequences = [len(seq) for seq in X_train_seq]\n",
        "\n",
        "median = np.median(panjang_sequences)\n",
        "\n",
        "print(\"Median data training: \",median)"
      ]
    },
    {
      "cell_type": "markdown",
      "id": "ca4fa878",
      "metadata": {
        "papermill": {
          "duration": 0.013893,
          "end_time": "2024-01-12T15:23:37.548571",
          "exception": false,
          "start_time": "2024-01-12T15:23:37.534678",
          "status": "completed"
        },
        "tags": [],
        "id": "ca4fa878"
      },
      "source": [
        "Saya akan mengambil angka 20"
      ]
    },
    {
      "cell_type": "code",
      "execution_count": 25,
      "id": "37c1ce52",
      "metadata": {
        "execution": {
          "iopub.execute_input": "2024-01-12T15:23:37.580817Z",
          "iopub.status.busy": "2024-01-12T15:23:37.579535Z",
          "iopub.status.idle": "2024-01-12T15:23:37.589441Z",
          "shell.execute_reply": "2024-01-12T15:23:37.588369Z"
        },
        "papermill": {
          "duration": 0.029288,
          "end_time": "2024-01-12T15:23:37.592119",
          "exception": false,
          "start_time": "2024-01-12T15:23:37.562831",
          "status": "completed"
        },
        "tags": [],
        "id": "37c1ce52"
      },
      "outputs": [],
      "source": [
        "max_panjang = 20\n",
        "\n",
        "X_train_padded = pad_sequences(X_train_seq, maxlen=max_panjang, padding='post')\n",
        "X_test_padded = pad_sequences(X_test_seq, maxlen=max_panjang, padding='post')"
      ]
    },
    {
      "cell_type": "markdown",
      "id": "bf46b0d1",
      "metadata": {
        "papermill": {
          "duration": 0.014586,
          "end_time": "2024-01-12T15:23:37.621152",
          "exception": false,
          "start_time": "2024-01-12T15:23:37.606566",
          "status": "completed"
        },
        "tags": [],
        "id": "bf46b0d1"
      },
      "source": [
        "**Label Encoding**"
      ]
    },
    {
      "cell_type": "code",
      "execution_count": 26,
      "id": "2a2d4d34",
      "metadata": {
        "execution": {
          "iopub.execute_input": "2024-01-12T15:23:37.653440Z",
          "iopub.status.busy": "2024-01-12T15:23:37.652181Z",
          "iopub.status.idle": "2024-01-12T15:23:37.658834Z",
          "shell.execute_reply": "2024-01-12T15:23:37.657573Z"
        },
        "papermill": {
          "duration": 0.024993,
          "end_time": "2024-01-12T15:23:37.661329",
          "exception": false,
          "start_time": "2024-01-12T15:23:37.636336",
          "status": "completed"
        },
        "tags": [],
        "id": "2a2d4d34"
      },
      "outputs": [],
      "source": [
        "label_encoder = LabelEncoder()\n",
        "\n",
        "y_train_encoded = label_encoder.fit_transform(y_train)\n",
        "y_test_encoded = label_encoder.fit_transform(y_test)"
      ]
    },
    {
      "cell_type": "markdown",
      "id": "8e475ade",
      "metadata": {
        "papermill": {
          "duration": 0.013968,
          "end_time": "2024-01-12T15:23:37.689656",
          "exception": false,
          "start_time": "2024-01-12T15:23:37.675688",
          "status": "completed"
        },
        "tags": [],
        "id": "8e475ade"
      },
      "source": [
        "# Pembuatan model"
      ]
    },
    {
      "cell_type": "code",
      "execution_count": 27,
      "id": "1c2cee49",
      "metadata": {
        "execution": {
          "iopub.execute_input": "2024-01-12T15:23:37.720680Z",
          "iopub.status.busy": "2024-01-12T15:23:37.719722Z",
          "iopub.status.idle": "2024-01-12T15:24:05.056120Z",
          "shell.execute_reply": "2024-01-12T15:24:05.054713Z"
        },
        "papermill": {
          "duration": 27.355342,
          "end_time": "2024-01-12T15:24:05.059350",
          "exception": false,
          "start_time": "2024-01-12T15:23:37.704008",
          "status": "completed"
        },
        "tags": [],
        "colab": {
          "base_uri": "https://localhost:8080/"
        },
        "id": "1c2cee49",
        "outputId": "4c6eba27-f83a-4397-f02e-a9762bf2e6fd"
      },
      "outputs": [
        {
          "output_type": "stream",
          "name": "stdout",
          "text": [
            "Epoch 1/30\n",
            "40/40 - 9s - 213ms/step - accuracy: 0.5723 - loss: 0.6887 - val_accuracy: 0.5625 - val_loss: 0.6856\n",
            "Epoch 2/30\n",
            "40/40 - 1s - 24ms/step - accuracy: 0.6824 - loss: 0.6322 - val_accuracy: 0.5875 - val_loss: 0.6936\n",
            "Epoch 3/30\n",
            "40/40 - 1s - 22ms/step - accuracy: 0.8176 - loss: 0.4725 - val_accuracy: 0.6500 - val_loss: 0.6595\n",
            "Epoch 4/30\n",
            "40/40 - 1s - 13ms/step - accuracy: 0.9088 - loss: 0.2270 - val_accuracy: 0.6375 - val_loss: 1.0908\n",
            "Epoch 5/30\n",
            "40/40 - 1s - 15ms/step - accuracy: 0.9560 - loss: 0.1656 - val_accuracy: 0.6875 - val_loss: 0.9546\n",
            "Epoch 6/30\n",
            "40/40 - 1s - 14ms/step - accuracy: 0.9811 - loss: 0.1092 - val_accuracy: 0.6875 - val_loss: 1.2566\n",
            "Epoch 7/30\n",
            "40/40 - 1s - 14ms/step - accuracy: 0.9717 - loss: 0.0848 - val_accuracy: 0.6750 - val_loss: 1.4977\n",
            "Epoch 8/30\n",
            "40/40 - 1s - 13ms/step - accuracy: 0.9748 - loss: 0.0785 - val_accuracy: 0.6625 - val_loss: 1.1326\n",
            "Epoch 9/30\n",
            "40/40 - 1s - 14ms/step - accuracy: 0.9811 - loss: 0.0655 - val_accuracy: 0.6750 - val_loss: 1.6529\n",
            "Epoch 10/30\n",
            "40/40 - 1s - 13ms/step - accuracy: 0.9874 - loss: 0.0376 - val_accuracy: 0.6625 - val_loss: 1.9810\n",
            "Epoch 11/30\n",
            "40/40 - 1s - 14ms/step - accuracy: 0.9717 - loss: 0.1056 - val_accuracy: 0.6375 - val_loss: 1.0414\n",
            "Epoch 12/30\n",
            "40/40 - 1s - 15ms/step - accuracy: 0.9937 - loss: 0.0510 - val_accuracy: 0.6375 - val_loss: 1.7298\n",
            "Epoch 13/30\n",
            "40/40 - 1s - 14ms/step - accuracy: 0.9874 - loss: 0.0424 - val_accuracy: 0.6625 - val_loss: 1.3910\n",
            "Epoch 14/30\n",
            "40/40 - 1s - 14ms/step - accuracy: 0.9874 - loss: 0.0367 - val_accuracy: 0.6750 - val_loss: 1.3140\n",
            "Epoch 15/30\n",
            "40/40 - 1s - 15ms/step - accuracy: 0.9937 - loss: 0.0218 - val_accuracy: 0.6750 - val_loss: 1.8199\n",
            "Epoch 16/30\n",
            "40/40 - 1s - 16ms/step - accuracy: 0.9811 - loss: 0.0439 - val_accuracy: 0.6125 - val_loss: 1.8919\n",
            "Epoch 17/30\n",
            "40/40 - 1s - 15ms/step - accuracy: 0.9811 - loss: 0.0587 - val_accuracy: 0.6500 - val_loss: 1.7582\n",
            "Epoch 18/30\n",
            "40/40 - 1s - 14ms/step - accuracy: 0.9906 - loss: 0.0337 - val_accuracy: 0.6625 - val_loss: 1.6967\n",
            "Epoch 19/30\n",
            "40/40 - 1s - 14ms/step - accuracy: 0.9937 - loss: 0.0259 - val_accuracy: 0.6125 - val_loss: 1.8614\n",
            "Epoch 20/30\n",
            "40/40 - 1s - 25ms/step - accuracy: 0.9937 - loss: 0.0215 - val_accuracy: 0.6625 - val_loss: 1.6133\n",
            "Epoch 21/30\n",
            "40/40 - 1s - 23ms/step - accuracy: 0.9937 - loss: 0.0281 - val_accuracy: 0.6250 - val_loss: 1.6595\n",
            "Epoch 22/30\n",
            "40/40 - 1s - 22ms/step - accuracy: 0.9937 - loss: 0.0226 - val_accuracy: 0.6750 - val_loss: 1.3938\n",
            "Epoch 23/30\n",
            "40/40 - 1s - 14ms/step - accuracy: 0.9937 - loss: 0.0163 - val_accuracy: 0.6250 - val_loss: 2.0164\n",
            "Epoch 24/30\n",
            "40/40 - 1s - 14ms/step - accuracy: 0.9937 - loss: 0.0245 - val_accuracy: 0.6500 - val_loss: 1.6506\n",
            "Epoch 25/30\n",
            "40/40 - 1s - 14ms/step - accuracy: 0.9906 - loss: 0.0256 - val_accuracy: 0.6375 - val_loss: 1.4305\n",
            "Epoch 26/30\n",
            "40/40 - 1s - 13ms/step - accuracy: 0.9969 - loss: 0.0115 - val_accuracy: 0.6375 - val_loss: 2.0655\n",
            "Epoch 27/30\n",
            "40/40 - 1s - 16ms/step - accuracy: 0.9969 - loss: 0.0112 - val_accuracy: 0.7000 - val_loss: 1.7048\n",
            "Epoch 28/30\n",
            "40/40 - 1s - 15ms/step - accuracy: 0.9937 - loss: 0.0284 - val_accuracy: 0.6500 - val_loss: 1.9512\n",
            "Epoch 29/30\n",
            "40/40 - 1s - 14ms/step - accuracy: 0.9969 - loss: 0.0151 - val_accuracy: 0.6375 - val_loss: 2.0022\n",
            "Epoch 30/30\n",
            "40/40 - 1s - 15ms/step - accuracy: 0.9969 - loss: 0.0307 - val_accuracy: 0.6500 - val_loss: 1.8413\n"
          ]
        }
      ],
      "source": [
        "model = tf.keras.Sequential([\n",
        "    tf.keras.layers.Embedding(input_dim=max_kata , output_dim=4),\n",
        "    tf.keras.layers.Bidirectional(tf.keras.layers.LSTM(64)),\n",
        "    tf.keras.layers.Dense(128, activation='relu'),\n",
        "    tf.keras.layers.Dropout(0.2),\n",
        "    tf.keras.layers.Dense(1, activation='sigmoid')\n",
        "])\n",
        "\n",
        "model.compile(\n",
        "    loss='binary_crossentropy',\n",
        "    optimizer='Adam',\n",
        "    metrics=['accuracy']\n",
        ")\n",
        "\n",
        "history = model.fit(\n",
        "    X_train_padded,\n",
        "    y_train_encoded,\n",
        "    epochs=30,\n",
        "    batch_size=8,\n",
        "    validation_data=(X_test_padded, y_test_encoded),\n",
        "    verbose=2,\n",
        ")"
      ]
    },
    {
      "cell_type": "markdown",
      "id": "d31404be",
      "metadata": {
        "papermill": {
          "duration": 0.01963,
          "end_time": "2024-01-12T15:24:05.099235",
          "exception": false,
          "start_time": "2024-01-12T15:24:05.079605",
          "status": "completed"
        },
        "tags": [],
        "id": "d31404be"
      },
      "source": [
        "**Grafik plot**"
      ]
    },
    {
      "cell_type": "code",
      "execution_count": 28,
      "id": "42b2b312",
      "metadata": {
        "execution": {
          "iopub.execute_input": "2024-01-12T15:24:05.142760Z",
          "iopub.status.busy": "2024-01-12T15:24:05.142330Z",
          "iopub.status.idle": "2024-01-12T15:24:05.884725Z",
          "shell.execute_reply": "2024-01-12T15:24:05.883211Z"
        },
        "papermill": {
          "duration": 0.768684,
          "end_time": "2024-01-12T15:24:05.887747",
          "exception": false,
          "start_time": "2024-01-12T15:24:05.119063",
          "status": "completed"
        },
        "tags": [],
        "colab": {
          "base_uri": "https://localhost:8080/",
          "height": 119
        },
        "id": "42b2b312",
        "outputId": "de76dbe7-8ead-4f75-f188-14f0cbfd7dde"
      },
      "outputs": [
        {
          "output_type": "display_data",
          "data": {
            "text/plain": [
              "<Figure size 1200x400 with 2 Axes>"
            ],
            "image/png": "[encoded data removed]"
          },
          "metadata": {}
        }
      ],
      "source": [
        "# Mendapatkan riwayat pelatihan\n",
        "train_loss = history.history['loss']\n",
        "train_accuracy = history.history['accuracy']\n",
        "val_loss = history.history['val_loss']\n",
        "val_accuracy = history.history['val_accuracy']\n",
        "\n",
        "# Plot akurasi\n",
        "plt.figure(figsize=(12, 4))\n",
        "plt.subplot(1, 2, 1)\n",
        "plt.plot(train_accuracy, label='Training Accuracy')\n",
        "plt.plot(val_accuracy, label='Validation Accuracy')\n",
        "plt.title('Training and Validation Accuracy')\n",
        "plt.xlabel('Epochs')\n",
        "plt.ylabel('Accuracy')\n",
        "plt.legend()\n",
        "\n",
        "# Plot loss\n",
        "plt.subplot(1, 2, 2)\n",
        "plt.plot(train_loss, label='Training Loss')\n",
        "plt.plot(val_loss, label='Validation Loss')\n",
        "plt.title('Training and Validation Loss')\n",
        "plt.xlabel('Epochs')\n",
        "plt.ylabel('Loss')\n",
        "plt.legend()\n",
        "\n",
        "plt.tight_layout()\n",
        "plt.show()"
      ]
    },
    {
      "cell_type": "markdown",
      "id": "cc61f876",
      "metadata": {
        "papermill": {
          "duration": 0.021568,
          "end_time": "2024-01-12T15:24:05.930665",
          "exception": false,
          "start_time": "2024-01-12T15:24:05.909097",
          "status": "completed"
        },
        "tags": [],
        "id": "cc61f876"
      },
      "source": [
        "Dari grafik yang terbentuk, dapat diketahui bahwa model yang dibuat tidak terlalu baik karena mengalami *overfitting* sehingga diperlukan percobaan lagi untuk mendapatkan hasil yang maksimal"
      ]
    }
  ],
  "metadata": {
    "kaggle": {
      "accelerator": "none",
      "dataSources": [
        {
          "datasetId": 4267596,
          "sourceId": 7388179,
          "sourceType": "datasetVersion"
        }
      ],
      "dockerImageVersionId": 30635,
      "isGpuEnabled": false,
      "isInternetEnabled": true,
      "language": "python",
      "sourceType": "notebook"
    },
    "kernelspec": {
      "display_name": "Python 3",
      "language": "python",
      "name": "python3"
    },
    "language_info": {
      "codemirror_mode": {
        "name": "ipython",
        "version": 3
      },
      "file_extension": ".py",
      "mimetype": "text/x-python",
      "name": "python",
      "nbconvert_exporter": "python",
      "pygments_lexer": "ipython3",
      "version": "3.10.12"
    },
    "papermill": {
      "default_parameters": {},
      "duration": 53.639689,
      "end_time": "2024-01-12T15:24:08.271690",
      "environment_variables": {},
      "exception": null,
      "input_path": "__notebook__.ipynb",
      "output_path": "__notebook__.ipynb",
      "parameters": {},
      "start_time": "2024-01-12T15:23:14.632001",
      "version": "2.4.0"
    },
    "colab": {
      "provenance": [],
      "include_colab_link": true
    }
  },
  "nbformat": 4,
  "nbformat_minor": 5
}